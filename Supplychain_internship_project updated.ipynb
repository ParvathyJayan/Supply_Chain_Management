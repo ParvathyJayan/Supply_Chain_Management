{
 "cells": [
  {
   "cell_type": "markdown",
   "metadata": {},
   "source": [
    "# <font color=\"blue\">Supply Chain Optimization for FMCG Company</font>\n",
    "\n",
    "## <font color=\"blue\">Introduction</font>\n",
    "The project focuses on optimizing the supply chain for a FMCG company that recently entered the instant noodles business. The company faces a challenge of demand-supply mismatch, leading to increased inventory costs and financial losses. The objective is to build a predictive model that can determine the optimal product weight to be shipped from each warehouse in the country. Key features of the data base include warehouse details, geographic factors and historical performance indicators. For the purpose of predicting and improving different aspects of supply chain management, these parameters shall be used to create and evaluate regression models such as Linear Regression, Decision Tree, Random Forest,Gradient Boosting. The project begins with data preprocessing and feature engineering, and then, proceeds to model building, followed by in-depth exploration through Exploratory Data Analysis (EDA). The objective is ultimately to increase the efficiency of the supply chain, in particular by discovering helpful information, identifying feature relationships and enhancing business continuity.snamics.\n"
   ]
  },
  {
   "cell_type": "code",
   "execution_count": 1,
   "metadata": {},
   "outputs": [],
   "source": [
    "#Importing Libraries\n",
    "import numpy as np\n",
    "import pandas as pd\n",
    "import matplotlib.pyplot as plt\n",
    "import seaborn as sns"
   ]
  },
  {
   "cell_type": "markdown",
   "metadata": {},
   "source": [
    "## <font color=\"blue\">Data Preparation</font>"
   ]
  },
  {
   "cell_type": "code",
   "execution_count": 2,
   "metadata": {},
   "outputs": [],
   "source": [
    "data1=pd.read_csv(\"supply_train.csv\")#training Dataset\n",
    "data2=pd.read_csv(\"supply_test.csv\")#testing Dataset"
   ]
  },
  {
   "cell_type": "code",
   "execution_count": 3,
   "metadata": {},
   "outputs": [
    {
     "data": {
      "text/html": [
       "<div>\n",
       "<style scoped>\n",
       "    .dataframe tbody tr th:only-of-type {\n",
       "        vertical-align: middle;\n",
       "    }\n",
       "\n",
       "    .dataframe tbody tr th {\n",
       "        vertical-align: top;\n",
       "    }\n",
       "\n",
       "    .dataframe thead th {\n",
       "        text-align: right;\n",
       "    }\n",
       "</style>\n",
       "<table border=\"1\" class=\"dataframe\">\n",
       "  <thead>\n",
       "    <tr style=\"text-align: right;\">\n",
       "      <th></th>\n",
       "      <th>Unnamed: 0</th>\n",
       "      <th>Ware_house_ID</th>\n",
       "      <th>WH_Manager_ID</th>\n",
       "      <th>Location_type</th>\n",
       "      <th>WH_capacity_size</th>\n",
       "      <th>zone</th>\n",
       "      <th>WH_regional_zone</th>\n",
       "      <th>num_refill_req_l3m</th>\n",
       "      <th>transport_issue_l1y</th>\n",
       "      <th>Competitor_in_mkt</th>\n",
       "      <th>...</th>\n",
       "      <th>electric_supply</th>\n",
       "      <th>dist_from_hub</th>\n",
       "      <th>workers_num</th>\n",
       "      <th>wh_est_year</th>\n",
       "      <th>storage_issue_reported_l3m</th>\n",
       "      <th>temp_reg_mach</th>\n",
       "      <th>approved_wh_govt_certificate</th>\n",
       "      <th>wh_breakdown_l3m</th>\n",
       "      <th>govt_check_l3m</th>\n",
       "      <th>product_wg_ton</th>\n",
       "    </tr>\n",
       "  </thead>\n",
       "  <tbody>\n",
       "    <tr>\n",
       "      <th>0</th>\n",
       "      <td>0</td>\n",
       "      <td>WH_100000</td>\n",
       "      <td>EID_50000</td>\n",
       "      <td>Urban</td>\n",
       "      <td>Small</td>\n",
       "      <td>West</td>\n",
       "      <td>Zone 6</td>\n",
       "      <td>3</td>\n",
       "      <td>1</td>\n",
       "      <td>2</td>\n",
       "      <td>...</td>\n",
       "      <td>1</td>\n",
       "      <td>91</td>\n",
       "      <td>29.0</td>\n",
       "      <td>NaN</td>\n",
       "      <td>13</td>\n",
       "      <td>0</td>\n",
       "      <td>A</td>\n",
       "      <td>5</td>\n",
       "      <td>15</td>\n",
       "      <td>17115</td>\n",
       "    </tr>\n",
       "    <tr>\n",
       "      <th>1</th>\n",
       "      <td>1</td>\n",
       "      <td>WH_100001</td>\n",
       "      <td>EID_50001</td>\n",
       "      <td>Rural</td>\n",
       "      <td>Large</td>\n",
       "      <td>North</td>\n",
       "      <td>Zone 5</td>\n",
       "      <td>0</td>\n",
       "      <td>0</td>\n",
       "      <td>4</td>\n",
       "      <td>...</td>\n",
       "      <td>1</td>\n",
       "      <td>210</td>\n",
       "      <td>31.0</td>\n",
       "      <td>NaN</td>\n",
       "      <td>4</td>\n",
       "      <td>0</td>\n",
       "      <td>A</td>\n",
       "      <td>3</td>\n",
       "      <td>17</td>\n",
       "      <td>5074</td>\n",
       "    </tr>\n",
       "    <tr>\n",
       "      <th>2</th>\n",
       "      <td>2</td>\n",
       "      <td>WH_100002</td>\n",
       "      <td>EID_50002</td>\n",
       "      <td>Rural</td>\n",
       "      <td>Mid</td>\n",
       "      <td>South</td>\n",
       "      <td>Zone 2</td>\n",
       "      <td>1</td>\n",
       "      <td>0</td>\n",
       "      <td>4</td>\n",
       "      <td>...</td>\n",
       "      <td>0</td>\n",
       "      <td>161</td>\n",
       "      <td>37.0</td>\n",
       "      <td>NaN</td>\n",
       "      <td>17</td>\n",
       "      <td>0</td>\n",
       "      <td>A</td>\n",
       "      <td>6</td>\n",
       "      <td>22</td>\n",
       "      <td>23137</td>\n",
       "    </tr>\n",
       "    <tr>\n",
       "      <th>3</th>\n",
       "      <td>3</td>\n",
       "      <td>WH_100003</td>\n",
       "      <td>EID_50003</td>\n",
       "      <td>Rural</td>\n",
       "      <td>Mid</td>\n",
       "      <td>North</td>\n",
       "      <td>Zone 3</td>\n",
       "      <td>7</td>\n",
       "      <td>4</td>\n",
       "      <td>2</td>\n",
       "      <td>...</td>\n",
       "      <td>0</td>\n",
       "      <td>103</td>\n",
       "      <td>21.0</td>\n",
       "      <td>NaN</td>\n",
       "      <td>17</td>\n",
       "      <td>1</td>\n",
       "      <td>A+</td>\n",
       "      <td>3</td>\n",
       "      <td>27</td>\n",
       "      <td>22115</td>\n",
       "    </tr>\n",
       "    <tr>\n",
       "      <th>4</th>\n",
       "      <td>4</td>\n",
       "      <td>WH_100004</td>\n",
       "      <td>EID_50004</td>\n",
       "      <td>Rural</td>\n",
       "      <td>Large</td>\n",
       "      <td>North</td>\n",
       "      <td>Zone 5</td>\n",
       "      <td>3</td>\n",
       "      <td>1</td>\n",
       "      <td>2</td>\n",
       "      <td>...</td>\n",
       "      <td>1</td>\n",
       "      <td>112</td>\n",
       "      <td>25.0</td>\n",
       "      <td>2009.0</td>\n",
       "      <td>18</td>\n",
       "      <td>0</td>\n",
       "      <td>C</td>\n",
       "      <td>6</td>\n",
       "      <td>24</td>\n",
       "      <td>24071</td>\n",
       "    </tr>\n",
       "  </tbody>\n",
       "</table>\n",
       "<p>5 rows × 25 columns</p>\n",
       "</div>"
      ],
      "text/plain": [
       "   Unnamed: 0 Ware_house_ID WH_Manager_ID Location_type WH_capacity_size  \\\n",
       "0           0     WH_100000     EID_50000         Urban            Small   \n",
       "1           1     WH_100001     EID_50001         Rural            Large   \n",
       "2           2     WH_100002     EID_50002         Rural              Mid   \n",
       "3           3     WH_100003     EID_50003         Rural              Mid   \n",
       "4           4     WH_100004     EID_50004         Rural            Large   \n",
       "\n",
       "    zone WH_regional_zone  num_refill_req_l3m  transport_issue_l1y  \\\n",
       "0   West           Zone 6                   3                    1   \n",
       "1  North           Zone 5                   0                    0   \n",
       "2  South           Zone 2                   1                    0   \n",
       "3  North           Zone 3                   7                    4   \n",
       "4  North           Zone 5                   3                    1   \n",
       "\n",
       "   Competitor_in_mkt  ...  electric_supply dist_from_hub  workers_num  \\\n",
       "0                  2  ...                1            91         29.0   \n",
       "1                  4  ...                1           210         31.0   \n",
       "2                  4  ...                0           161         37.0   \n",
       "3                  2  ...                0           103         21.0   \n",
       "4                  2  ...                1           112         25.0   \n",
       "\n",
       "   wh_est_year  storage_issue_reported_l3m  temp_reg_mach  \\\n",
       "0          NaN                          13              0   \n",
       "1          NaN                           4              0   \n",
       "2          NaN                          17              0   \n",
       "3          NaN                          17              1   \n",
       "4       2009.0                          18              0   \n",
       "\n",
       "   approved_wh_govt_certificate  wh_breakdown_l3m  govt_check_l3m  \\\n",
       "0                             A                 5              15   \n",
       "1                             A                 3              17   \n",
       "2                             A                 6              22   \n",
       "3                            A+                 3              27   \n",
       "4                             C                 6              24   \n",
       "\n",
       "   product_wg_ton  \n",
       "0           17115  \n",
       "1            5074  \n",
       "2           23137  \n",
       "3           22115  \n",
       "4           24071  \n",
       "\n",
       "[5 rows x 25 columns]"
      ]
     },
     "execution_count": 3,
     "metadata": {},
     "output_type": "execute_result"
    }
   ],
   "source": [
    "data1.head(5)"
   ]
  },
  {
   "cell_type": "code",
   "execution_count": 4,
   "metadata": {},
   "outputs": [
    {
     "data": {
      "text/html": [
       "<div>\n",
       "<style scoped>\n",
       "    .dataframe tbody tr th:only-of-type {\n",
       "        vertical-align: middle;\n",
       "    }\n",
       "\n",
       "    .dataframe tbody tr th {\n",
       "        vertical-align: top;\n",
       "    }\n",
       "\n",
       "    .dataframe thead th {\n",
       "        text-align: right;\n",
       "    }\n",
       "</style>\n",
       "<table border=\"1\" class=\"dataframe\">\n",
       "  <thead>\n",
       "    <tr style=\"text-align: right;\">\n",
       "      <th></th>\n",
       "      <th>Unnamed: 0</th>\n",
       "      <th>Ware_house_ID</th>\n",
       "      <th>WH_Manager_ID</th>\n",
       "      <th>Location_type</th>\n",
       "      <th>WH_capacity_size</th>\n",
       "      <th>zone</th>\n",
       "      <th>WH_regional_zone</th>\n",
       "      <th>num_refill_req_l3m</th>\n",
       "      <th>transport_issue_l1y</th>\n",
       "      <th>Competitor_in_mkt</th>\n",
       "      <th>...</th>\n",
       "      <th>electric_supply</th>\n",
       "      <th>dist_from_hub</th>\n",
       "      <th>workers_num</th>\n",
       "      <th>wh_est_year</th>\n",
       "      <th>storage_issue_reported_l3m</th>\n",
       "      <th>temp_reg_mach</th>\n",
       "      <th>approved_wh_govt_certificate</th>\n",
       "      <th>wh_breakdown_l3m</th>\n",
       "      <th>govt_check_l3m</th>\n",
       "      <th>product_wg_ton</th>\n",
       "    </tr>\n",
       "  </thead>\n",
       "  <tbody>\n",
       "    <tr>\n",
       "      <th>0</th>\n",
       "      <td>16621</td>\n",
       "      <td>WH_116621</td>\n",
       "      <td>EID_66621</td>\n",
       "      <td>Rural</td>\n",
       "      <td>Large</td>\n",
       "      <td>North</td>\n",
       "      <td>Zone 5</td>\n",
       "      <td>5</td>\n",
       "      <td>0</td>\n",
       "      <td>3</td>\n",
       "      <td>...</td>\n",
       "      <td>0</td>\n",
       "      <td>156</td>\n",
       "      <td>30.0</td>\n",
       "      <td>2006.0</td>\n",
       "      <td>24</td>\n",
       "      <td>0</td>\n",
       "      <td>A</td>\n",
       "      <td>2</td>\n",
       "      <td>5</td>\n",
       "      <td>30132</td>\n",
       "    </tr>\n",
       "    <tr>\n",
       "      <th>1</th>\n",
       "      <td>16622</td>\n",
       "      <td>WH_116622</td>\n",
       "      <td>EID_66622</td>\n",
       "      <td>Rural</td>\n",
       "      <td>Large</td>\n",
       "      <td>North</td>\n",
       "      <td>Zone 5</td>\n",
       "      <td>5</td>\n",
       "      <td>0</td>\n",
       "      <td>2</td>\n",
       "      <td>...</td>\n",
       "      <td>1</td>\n",
       "      <td>79</td>\n",
       "      <td>31.0</td>\n",
       "      <td>2019.0</td>\n",
       "      <td>5</td>\n",
       "      <td>1</td>\n",
       "      <td>C</td>\n",
       "      <td>2</td>\n",
       "      <td>24</td>\n",
       "      <td>6075</td>\n",
       "    </tr>\n",
       "    <tr>\n",
       "      <th>2</th>\n",
       "      <td>16623</td>\n",
       "      <td>WH_116623</td>\n",
       "      <td>EID_66623</td>\n",
       "      <td>Rural</td>\n",
       "      <td>Small</td>\n",
       "      <td>North</td>\n",
       "      <td>Zone 6</td>\n",
       "      <td>3</td>\n",
       "      <td>0</td>\n",
       "      <td>3</td>\n",
       "      <td>...</td>\n",
       "      <td>1</td>\n",
       "      <td>70</td>\n",
       "      <td>41.0</td>\n",
       "      <td>2008.0</td>\n",
       "      <td>19</td>\n",
       "      <td>1</td>\n",
       "      <td>A+</td>\n",
       "      <td>5</td>\n",
       "      <td>9</td>\n",
       "      <td>24076</td>\n",
       "    </tr>\n",
       "    <tr>\n",
       "      <th>3</th>\n",
       "      <td>16624</td>\n",
       "      <td>WH_116624</td>\n",
       "      <td>EID_66624</td>\n",
       "      <td>Rural</td>\n",
       "      <td>Mid</td>\n",
       "      <td>West</td>\n",
       "      <td>Zone 4</td>\n",
       "      <td>5</td>\n",
       "      <td>2</td>\n",
       "      <td>2</td>\n",
       "      <td>...</td>\n",
       "      <td>1</td>\n",
       "      <td>255</td>\n",
       "      <td>33.0</td>\n",
       "      <td>2017.0</td>\n",
       "      <td>9</td>\n",
       "      <td>1</td>\n",
       "      <td>A+</td>\n",
       "      <td>3</td>\n",
       "      <td>11</td>\n",
       "      <td>13092</td>\n",
       "    </tr>\n",
       "    <tr>\n",
       "      <th>4</th>\n",
       "      <td>16625</td>\n",
       "      <td>WH_116625</td>\n",
       "      <td>EID_66625</td>\n",
       "      <td>Urban</td>\n",
       "      <td>Mid</td>\n",
       "      <td>North</td>\n",
       "      <td>Zone 4</td>\n",
       "      <td>6</td>\n",
       "      <td>0</td>\n",
       "      <td>4</td>\n",
       "      <td>...</td>\n",
       "      <td>0</td>\n",
       "      <td>205</td>\n",
       "      <td>20.0</td>\n",
       "      <td>1999.0</td>\n",
       "      <td>25</td>\n",
       "      <td>0</td>\n",
       "      <td>B</td>\n",
       "      <td>4</td>\n",
       "      <td>26</td>\n",
       "      <td>29071</td>\n",
       "    </tr>\n",
       "  </tbody>\n",
       "</table>\n",
       "<p>5 rows × 25 columns</p>\n",
       "</div>"
      ],
      "text/plain": [
       "   Unnamed: 0 Ware_house_ID WH_Manager_ID Location_type WH_capacity_size  \\\n",
       "0       16621     WH_116621     EID_66621         Rural            Large   \n",
       "1       16622     WH_116622     EID_66622         Rural            Large   \n",
       "2       16623     WH_116623     EID_66623         Rural            Small   \n",
       "3       16624     WH_116624     EID_66624         Rural              Mid   \n",
       "4       16625     WH_116625     EID_66625         Urban              Mid   \n",
       "\n",
       "    zone WH_regional_zone  num_refill_req_l3m  transport_issue_l1y  \\\n",
       "0  North           Zone 5                   5                    0   \n",
       "1  North           Zone 5                   5                    0   \n",
       "2  North           Zone 6                   3                    0   \n",
       "3   West           Zone 4                   5                    2   \n",
       "4  North           Zone 4                   6                    0   \n",
       "\n",
       "   Competitor_in_mkt  ...  electric_supply dist_from_hub  workers_num  \\\n",
       "0                  3  ...                0           156         30.0   \n",
       "1                  2  ...                1            79         31.0   \n",
       "2                  3  ...                1            70         41.0   \n",
       "3                  2  ...                1           255         33.0   \n",
       "4                  4  ...                0           205         20.0   \n",
       "\n",
       "   wh_est_year  storage_issue_reported_l3m  temp_reg_mach  \\\n",
       "0       2006.0                          24              0   \n",
       "1       2019.0                           5              1   \n",
       "2       2008.0                          19              1   \n",
       "3       2017.0                           9              1   \n",
       "4       1999.0                          25              0   \n",
       "\n",
       "   approved_wh_govt_certificate  wh_breakdown_l3m  govt_check_l3m  \\\n",
       "0                             A                 2               5   \n",
       "1                             C                 2              24   \n",
       "2                            A+                 5               9   \n",
       "3                            A+                 3              11   \n",
       "4                             B                 4              26   \n",
       "\n",
       "   product_wg_ton  \n",
       "0           30132  \n",
       "1            6075  \n",
       "2           24076  \n",
       "3           13092  \n",
       "4           29071  \n",
       "\n",
       "[5 rows x 25 columns]"
      ]
     },
     "execution_count": 4,
     "metadata": {},
     "output_type": "execute_result"
    }
   ],
   "source": [
    "data2.head(5)"
   ]
  },
  {
   "cell_type": "code",
   "execution_count": 5,
   "metadata": {},
   "outputs": [
    {
     "data": {
      "text/plain": [
       "(16620, 25)"
      ]
     },
     "execution_count": 5,
     "metadata": {},
     "output_type": "execute_result"
    }
   ],
   "source": [
    "data1.shape"
   ]
  },
  {
   "cell_type": "code",
   "execution_count": 6,
   "metadata": {},
   "outputs": [
    {
     "data": {
      "text/plain": [
       "(5529, 25)"
      ]
     },
     "execution_count": 6,
     "metadata": {},
     "output_type": "execute_result"
    }
   ],
   "source": [
    "data2.shape"
   ]
  },
  {
   "cell_type": "code",
   "execution_count": 7,
   "metadata": {},
   "outputs": [
    {
     "name": "stdout",
     "output_type": "stream",
     "text": [
      "<class 'pandas.core.frame.DataFrame'>\n",
      "RangeIndex: 16620 entries, 0 to 16619\n",
      "Data columns (total 25 columns):\n",
      " #   Column                        Non-Null Count  Dtype  \n",
      "---  ------                        --------------  -----  \n",
      " 0   Unnamed: 0                    16620 non-null  int64  \n",
      " 1   Ware_house_ID                 16620 non-null  object \n",
      " 2   WH_Manager_ID                 16620 non-null  object \n",
      " 3   Location_type                 16620 non-null  object \n",
      " 4   WH_capacity_size              16620 non-null  object \n",
      " 5   zone                          16620 non-null  object \n",
      " 6   WH_regional_zone              16620 non-null  object \n",
      " 7   num_refill_req_l3m            16620 non-null  int64  \n",
      " 8   transport_issue_l1y           16620 non-null  int64  \n",
      " 9   Competitor_in_mkt             16620 non-null  int64  \n",
      " 10  retail_shop_num               16620 non-null  int64  \n",
      " 11  wh_owner_type                 16620 non-null  object \n",
      " 12  distributor_num               16620 non-null  int64  \n",
      " 13  flood_impacted                16620 non-null  int64  \n",
      " 14  flood_proof                   16620 non-null  int64  \n",
      " 15  electric_supply               16620 non-null  int64  \n",
      " 16  dist_from_hub                 16620 non-null  int64  \n",
      " 17  workers_num                   15953 non-null  float64\n",
      " 18  wh_est_year                   8760 non-null   float64\n",
      " 19  storage_issue_reported_l3m    16620 non-null  int64  \n",
      " 20  temp_reg_mach                 16620 non-null  int64  \n",
      " 21  approved_wh_govt_certificate  16021 non-null  object \n",
      " 22  wh_breakdown_l3m              16620 non-null  int64  \n",
      " 23  govt_check_l3m                16620 non-null  int64  \n",
      " 24  product_wg_ton                16620 non-null  int64  \n",
      "dtypes: float64(2), int64(15), object(8)\n",
      "memory usage: 3.2+ MB\n"
     ]
    }
   ],
   "source": [
    "data1.info()"
   ]
  },
  {
   "cell_type": "code",
   "execution_count": 8,
   "metadata": {},
   "outputs": [
    {
     "name": "stdout",
     "output_type": "stream",
     "text": [
      "<class 'pandas.core.frame.DataFrame'>\n",
      "RangeIndex: 5529 entries, 0 to 5528\n",
      "Data columns (total 25 columns):\n",
      " #   Column                        Non-Null Count  Dtype  \n",
      "---  ------                        --------------  -----  \n",
      " 0   Unnamed: 0                    5529 non-null   int64  \n",
      " 1   Ware_house_ID                 5529 non-null   object \n",
      " 2   WH_Manager_ID                 5529 non-null   object \n",
      " 3   Location_type                 5529 non-null   object \n",
      " 4   WH_capacity_size              5529 non-null   object \n",
      " 5   zone                          5529 non-null   object \n",
      " 6   WH_regional_zone              5529 non-null   object \n",
      " 7   num_refill_req_l3m            5529 non-null   int64  \n",
      " 8   transport_issue_l1y           5529 non-null   int64  \n",
      " 9   Competitor_in_mkt             5529 non-null   int64  \n",
      " 10  retail_shop_num               5529 non-null   int64  \n",
      " 11  wh_owner_type                 5529 non-null   object \n",
      " 12  distributor_num               5529 non-null   int64  \n",
      " 13  flood_impacted                5529 non-null   int64  \n",
      " 14  flood_proof                   5529 non-null   int64  \n",
      " 15  electric_supply               5529 non-null   int64  \n",
      " 16  dist_from_hub                 5529 non-null   int64  \n",
      " 17  workers_num                   5319 non-null   float64\n",
      " 18  wh_est_year                   2844 non-null   float64\n",
      " 19  storage_issue_reported_l3m    5529 non-null   int64  \n",
      " 20  temp_reg_mach                 5529 non-null   int64  \n",
      " 21  approved_wh_govt_certificate  5323 non-null   object \n",
      " 22  wh_breakdown_l3m              5529 non-null   int64  \n",
      " 23  govt_check_l3m                5529 non-null   int64  \n",
      " 24  product_wg_ton                5529 non-null   int64  \n",
      "dtypes: float64(2), int64(15), object(8)\n",
      "memory usage: 1.1+ MB\n"
     ]
    }
   ],
   "source": [
    "data2.info()"
   ]
  },
  {
   "cell_type": "code",
   "execution_count": 9,
   "metadata": {},
   "outputs": [
    {
     "data": {
      "text/html": [
       "<div>\n",
       "<style scoped>\n",
       "    .dataframe tbody tr th:only-of-type {\n",
       "        vertical-align: middle;\n",
       "    }\n",
       "\n",
       "    .dataframe tbody tr th {\n",
       "        vertical-align: top;\n",
       "    }\n",
       "\n",
       "    .dataframe thead th {\n",
       "        text-align: right;\n",
       "    }\n",
       "</style>\n",
       "<table border=\"1\" class=\"dataframe\">\n",
       "  <thead>\n",
       "    <tr style=\"text-align: right;\">\n",
       "      <th></th>\n",
       "      <th>Unnamed: 0</th>\n",
       "      <th>num_refill_req_l3m</th>\n",
       "      <th>transport_issue_l1y</th>\n",
       "      <th>Competitor_in_mkt</th>\n",
       "      <th>retail_shop_num</th>\n",
       "      <th>distributor_num</th>\n",
       "      <th>flood_impacted</th>\n",
       "      <th>flood_proof</th>\n",
       "      <th>electric_supply</th>\n",
       "      <th>dist_from_hub</th>\n",
       "      <th>workers_num</th>\n",
       "      <th>wh_est_year</th>\n",
       "      <th>storage_issue_reported_l3m</th>\n",
       "      <th>temp_reg_mach</th>\n",
       "      <th>wh_breakdown_l3m</th>\n",
       "      <th>govt_check_l3m</th>\n",
       "      <th>product_wg_ton</th>\n",
       "    </tr>\n",
       "  </thead>\n",
       "  <tbody>\n",
       "    <tr>\n",
       "      <th>count</th>\n",
       "      <td>16620.000000</td>\n",
       "      <td>16620.000000</td>\n",
       "      <td>16620.000000</td>\n",
       "      <td>16620.000000</td>\n",
       "      <td>16620.000000</td>\n",
       "      <td>16620.000000</td>\n",
       "      <td>16620.000000</td>\n",
       "      <td>16620.000000</td>\n",
       "      <td>16620.000000</td>\n",
       "      <td>16620.000000</td>\n",
       "      <td>15953.000000</td>\n",
       "      <td>8760.000000</td>\n",
       "      <td>16620.000000</td>\n",
       "      <td>16620.000000</td>\n",
       "      <td>16620.000000</td>\n",
       "      <td>16620.000000</td>\n",
       "      <td>16620.000000</td>\n",
       "    </tr>\n",
       "    <tr>\n",
       "      <th>mean</th>\n",
       "      <td>8309.500000</td>\n",
       "      <td>4.126655</td>\n",
       "      <td>0.780927</td>\n",
       "      <td>3.103129</td>\n",
       "      <td>4983.904994</td>\n",
       "      <td>42.473706</td>\n",
       "      <td>0.096871</td>\n",
       "      <td>0.056017</td>\n",
       "      <td>0.655716</td>\n",
       "      <td>163.521901</td>\n",
       "      <td>28.911490</td>\n",
       "      <td>2009.345320</td>\n",
       "      <td>17.127196</td>\n",
       "      <td>0.306137</td>\n",
       "      <td>3.491095</td>\n",
       "      <td>18.727377</td>\n",
       "      <td>22098.420096</td>\n",
       "    </tr>\n",
       "    <tr>\n",
       "      <th>std</th>\n",
       "      <td>4797.925072</td>\n",
       "      <td>2.606241</td>\n",
       "      <td>1.206351</td>\n",
       "      <td>1.147711</td>\n",
       "      <td>1051.032239</td>\n",
       "      <td>16.090000</td>\n",
       "      <td>0.295791</td>\n",
       "      <td>0.229961</td>\n",
       "      <td>0.475149</td>\n",
       "      <td>62.701193</td>\n",
       "      <td>7.842046</td>\n",
       "      <td>7.544672</td>\n",
       "      <td>9.163901</td>\n",
       "      <td>0.460901</td>\n",
       "      <td>1.688614</td>\n",
       "      <td>8.619857</td>\n",
       "      <td>11620.337346</td>\n",
       "    </tr>\n",
       "    <tr>\n",
       "      <th>min</th>\n",
       "      <td>0.000000</td>\n",
       "      <td>0.000000</td>\n",
       "      <td>0.000000</td>\n",
       "      <td>0.000000</td>\n",
       "      <td>1821.000000</td>\n",
       "      <td>15.000000</td>\n",
       "      <td>0.000000</td>\n",
       "      <td>0.000000</td>\n",
       "      <td>0.000000</td>\n",
       "      <td>55.000000</td>\n",
       "      <td>10.000000</td>\n",
       "      <td>1996.000000</td>\n",
       "      <td>0.000000</td>\n",
       "      <td>0.000000</td>\n",
       "      <td>0.000000</td>\n",
       "      <td>1.000000</td>\n",
       "      <td>2093.000000</td>\n",
       "    </tr>\n",
       "    <tr>\n",
       "      <th>25%</th>\n",
       "      <td>4154.750000</td>\n",
       "      <td>2.000000</td>\n",
       "      <td>0.000000</td>\n",
       "      <td>2.000000</td>\n",
       "      <td>4309.000000</td>\n",
       "      <td>29.000000</td>\n",
       "      <td>0.000000</td>\n",
       "      <td>0.000000</td>\n",
       "      <td>0.000000</td>\n",
       "      <td>109.000000</td>\n",
       "      <td>24.000000</td>\n",
       "      <td>2003.000000</td>\n",
       "      <td>10.000000</td>\n",
       "      <td>0.000000</td>\n",
       "      <td>2.000000</td>\n",
       "      <td>11.000000</td>\n",
       "      <td>13057.000000</td>\n",
       "    </tr>\n",
       "    <tr>\n",
       "      <th>50%</th>\n",
       "      <td>8309.500000</td>\n",
       "      <td>4.000000</td>\n",
       "      <td>0.000000</td>\n",
       "      <td>3.000000</td>\n",
       "      <td>4856.000000</td>\n",
       "      <td>42.000000</td>\n",
       "      <td>0.000000</td>\n",
       "      <td>0.000000</td>\n",
       "      <td>1.000000</td>\n",
       "      <td>164.000000</td>\n",
       "      <td>28.000000</td>\n",
       "      <td>2009.000000</td>\n",
       "      <td>18.000000</td>\n",
       "      <td>0.000000</td>\n",
       "      <td>3.000000</td>\n",
       "      <td>19.000000</td>\n",
       "      <td>22099.000000</td>\n",
       "    </tr>\n",
       "    <tr>\n",
       "      <th>75%</th>\n",
       "      <td>12464.250000</td>\n",
       "      <td>6.000000</td>\n",
       "      <td>1.000000</td>\n",
       "      <td>4.000000</td>\n",
       "      <td>5500.000000</td>\n",
       "      <td>56.000000</td>\n",
       "      <td>0.000000</td>\n",
       "      <td>0.000000</td>\n",
       "      <td>1.000000</td>\n",
       "      <td>218.000000</td>\n",
       "      <td>33.000000</td>\n",
       "      <td>2016.000000</td>\n",
       "      <td>24.000000</td>\n",
       "      <td>1.000000</td>\n",
       "      <td>5.000000</td>\n",
       "      <td>26.000000</td>\n",
       "      <td>30103.000000</td>\n",
       "    </tr>\n",
       "    <tr>\n",
       "      <th>max</th>\n",
       "      <td>16619.000000</td>\n",
       "      <td>8.000000</td>\n",
       "      <td>5.000000</td>\n",
       "      <td>12.000000</td>\n",
       "      <td>11008.000000</td>\n",
       "      <td>70.000000</td>\n",
       "      <td>1.000000</td>\n",
       "      <td>1.000000</td>\n",
       "      <td>1.000000</td>\n",
       "      <td>271.000000</td>\n",
       "      <td>98.000000</td>\n",
       "      <td>2023.000000</td>\n",
       "      <td>39.000000</td>\n",
       "      <td>1.000000</td>\n",
       "      <td>6.000000</td>\n",
       "      <td>32.000000</td>\n",
       "      <td>55151.000000</td>\n",
       "    </tr>\n",
       "  </tbody>\n",
       "</table>\n",
       "</div>"
      ],
      "text/plain": [
       "         Unnamed: 0  num_refill_req_l3m  transport_issue_l1y  \\\n",
       "count  16620.000000        16620.000000         16620.000000   \n",
       "mean    8309.500000            4.126655             0.780927   \n",
       "std     4797.925072            2.606241             1.206351   \n",
       "min        0.000000            0.000000             0.000000   \n",
       "25%     4154.750000            2.000000             0.000000   \n",
       "50%     8309.500000            4.000000             0.000000   \n",
       "75%    12464.250000            6.000000             1.000000   \n",
       "max    16619.000000            8.000000             5.000000   \n",
       "\n",
       "       Competitor_in_mkt  retail_shop_num  distributor_num  flood_impacted  \\\n",
       "count       16620.000000     16620.000000     16620.000000    16620.000000   \n",
       "mean            3.103129      4983.904994        42.473706        0.096871   \n",
       "std             1.147711      1051.032239        16.090000        0.295791   \n",
       "min             0.000000      1821.000000        15.000000        0.000000   \n",
       "25%             2.000000      4309.000000        29.000000        0.000000   \n",
       "50%             3.000000      4856.000000        42.000000        0.000000   \n",
       "75%             4.000000      5500.000000        56.000000        0.000000   \n",
       "max            12.000000     11008.000000        70.000000        1.000000   \n",
       "\n",
       "        flood_proof  electric_supply  dist_from_hub   workers_num  \\\n",
       "count  16620.000000     16620.000000   16620.000000  15953.000000   \n",
       "mean       0.056017         0.655716     163.521901     28.911490   \n",
       "std        0.229961         0.475149      62.701193      7.842046   \n",
       "min        0.000000         0.000000      55.000000     10.000000   \n",
       "25%        0.000000         0.000000     109.000000     24.000000   \n",
       "50%        0.000000         1.000000     164.000000     28.000000   \n",
       "75%        0.000000         1.000000     218.000000     33.000000   \n",
       "max        1.000000         1.000000     271.000000     98.000000   \n",
       "\n",
       "       wh_est_year  storage_issue_reported_l3m  temp_reg_mach  \\\n",
       "count  8760.000000                16620.000000   16620.000000   \n",
       "mean   2009.345320                   17.127196       0.306137   \n",
       "std       7.544672                    9.163901       0.460901   \n",
       "min    1996.000000                    0.000000       0.000000   \n",
       "25%    2003.000000                   10.000000       0.000000   \n",
       "50%    2009.000000                   18.000000       0.000000   \n",
       "75%    2016.000000                   24.000000       1.000000   \n",
       "max    2023.000000                   39.000000       1.000000   \n",
       "\n",
       "       wh_breakdown_l3m  govt_check_l3m  product_wg_ton  \n",
       "count      16620.000000    16620.000000    16620.000000  \n",
       "mean           3.491095       18.727377    22098.420096  \n",
       "std            1.688614        8.619857    11620.337346  \n",
       "min            0.000000        1.000000     2093.000000  \n",
       "25%            2.000000       11.000000    13057.000000  \n",
       "50%            3.000000       19.000000    22099.000000  \n",
       "75%            5.000000       26.000000    30103.000000  \n",
       "max            6.000000       32.000000    55151.000000  "
      ]
     },
     "execution_count": 9,
     "metadata": {},
     "output_type": "execute_result"
    }
   ],
   "source": [
    "data1.describe()"
   ]
  },
  {
   "cell_type": "code",
   "execution_count": 10,
   "metadata": {},
   "outputs": [
    {
     "data": {
      "text/html": [
       "<div>\n",
       "<style scoped>\n",
       "    .dataframe tbody tr th:only-of-type {\n",
       "        vertical-align: middle;\n",
       "    }\n",
       "\n",
       "    .dataframe tbody tr th {\n",
       "        vertical-align: top;\n",
       "    }\n",
       "\n",
       "    .dataframe thead th {\n",
       "        text-align: right;\n",
       "    }\n",
       "</style>\n",
       "<table border=\"1\" class=\"dataframe\">\n",
       "  <thead>\n",
       "    <tr style=\"text-align: right;\">\n",
       "      <th></th>\n",
       "      <th>Unnamed: 0</th>\n",
       "      <th>num_refill_req_l3m</th>\n",
       "      <th>transport_issue_l1y</th>\n",
       "      <th>Competitor_in_mkt</th>\n",
       "      <th>retail_shop_num</th>\n",
       "      <th>distributor_num</th>\n",
       "      <th>flood_impacted</th>\n",
       "      <th>flood_proof</th>\n",
       "      <th>electric_supply</th>\n",
       "      <th>dist_from_hub</th>\n",
       "      <th>workers_num</th>\n",
       "      <th>wh_est_year</th>\n",
       "      <th>storage_issue_reported_l3m</th>\n",
       "      <th>temp_reg_mach</th>\n",
       "      <th>wh_breakdown_l3m</th>\n",
       "      <th>govt_check_l3m</th>\n",
       "      <th>product_wg_ton</th>\n",
       "    </tr>\n",
       "  </thead>\n",
       "  <tbody>\n",
       "    <tr>\n",
       "      <th>count</th>\n",
       "      <td>5529.00000</td>\n",
       "      <td>5529.000000</td>\n",
       "      <td>5529.000000</td>\n",
       "      <td>5529.000000</td>\n",
       "      <td>5529.000000</td>\n",
       "      <td>5529.000000</td>\n",
       "      <td>5529.000000</td>\n",
       "      <td>5529.000000</td>\n",
       "      <td>5529.000000</td>\n",
       "      <td>5529.000000</td>\n",
       "      <td>5319.000000</td>\n",
       "      <td>2844.000000</td>\n",
       "      <td>5529.000000</td>\n",
       "      <td>5529.000000</td>\n",
       "      <td>5529.000000</td>\n",
       "      <td>5529.000000</td>\n",
       "      <td>5529.000000</td>\n",
       "    </tr>\n",
       "    <tr>\n",
       "      <th>mean</th>\n",
       "      <td>19385.00000</td>\n",
       "      <td>4.007235</td>\n",
       "      <td>0.765600</td>\n",
       "      <td>3.106167</td>\n",
       "      <td>4980.695424</td>\n",
       "      <td>42.128052</td>\n",
       "      <td>0.104178</td>\n",
       "      <td>0.049919</td>\n",
       "      <td>0.657262</td>\n",
       "      <td>163.899982</td>\n",
       "      <td>29.010528</td>\n",
       "      <td>2009.572785</td>\n",
       "      <td>17.085549</td>\n",
       "      <td>0.298426</td>\n",
       "      <td>3.477302</td>\n",
       "      <td>18.892205</td>\n",
       "      <td>22052.334599</td>\n",
       "    </tr>\n",
       "    <tr>\n",
       "      <th>std</th>\n",
       "      <td>1596.22915</td>\n",
       "      <td>2.604325</td>\n",
       "      <td>1.187567</td>\n",
       "      <td>1.128396</td>\n",
       "      <td>1049.617325</td>\n",
       "      <td>15.959934</td>\n",
       "      <td>0.305519</td>\n",
       "      <td>0.217797</td>\n",
       "      <td>0.474668</td>\n",
       "      <td>62.544704</td>\n",
       "      <td>7.848478</td>\n",
       "      <td>7.473201</td>\n",
       "      <td>9.206551</td>\n",
       "      <td>0.457609</td>\n",
       "      <td>1.700717</td>\n",
       "      <td>8.716737</td>\n",
       "      <td>11645.738485</td>\n",
       "    </tr>\n",
       "    <tr>\n",
       "      <th>min</th>\n",
       "      <td>16621.00000</td>\n",
       "      <td>0.000000</td>\n",
       "      <td>0.000000</td>\n",
       "      <td>1.000000</td>\n",
       "      <td>1953.000000</td>\n",
       "      <td>15.000000</td>\n",
       "      <td>0.000000</td>\n",
       "      <td>0.000000</td>\n",
       "      <td>0.000000</td>\n",
       "      <td>55.000000</td>\n",
       "      <td>10.000000</td>\n",
       "      <td>1996.000000</td>\n",
       "      <td>0.000000</td>\n",
       "      <td>0.000000</td>\n",
       "      <td>0.000000</td>\n",
       "      <td>1.000000</td>\n",
       "      <td>2065.000000</td>\n",
       "    </tr>\n",
       "    <tr>\n",
       "      <th>25%</th>\n",
       "      <td>18003.00000</td>\n",
       "      <td>2.000000</td>\n",
       "      <td>0.000000</td>\n",
       "      <td>2.000000</td>\n",
       "      <td>4310.000000</td>\n",
       "      <td>28.000000</td>\n",
       "      <td>0.000000</td>\n",
       "      <td>0.000000</td>\n",
       "      <td>0.000000</td>\n",
       "      <td>110.000000</td>\n",
       "      <td>24.000000</td>\n",
       "      <td>2003.000000</td>\n",
       "      <td>10.000000</td>\n",
       "      <td>0.000000</td>\n",
       "      <td>2.000000</td>\n",
       "      <td>11.000000</td>\n",
       "      <td>12143.000000</td>\n",
       "    </tr>\n",
       "    <tr>\n",
       "      <th>50%</th>\n",
       "      <td>19385.00000</td>\n",
       "      <td>4.000000</td>\n",
       "      <td>0.000000</td>\n",
       "      <td>3.000000</td>\n",
       "      <td>4863.000000</td>\n",
       "      <td>42.000000</td>\n",
       "      <td>0.000000</td>\n",
       "      <td>0.000000</td>\n",
       "      <td>1.000000</td>\n",
       "      <td>165.000000</td>\n",
       "      <td>28.000000</td>\n",
       "      <td>2010.000000</td>\n",
       "      <td>17.000000</td>\n",
       "      <td>0.000000</td>\n",
       "      <td>3.000000</td>\n",
       "      <td>21.000000</td>\n",
       "      <td>22099.000000</td>\n",
       "    </tr>\n",
       "    <tr>\n",
       "      <th>75%</th>\n",
       "      <td>20767.00000</td>\n",
       "      <td>6.000000</td>\n",
       "      <td>1.000000</td>\n",
       "      <td>4.000000</td>\n",
       "      <td>5492.000000</td>\n",
       "      <td>56.000000</td>\n",
       "      <td>0.000000</td>\n",
       "      <td>0.000000</td>\n",
       "      <td>1.000000</td>\n",
       "      <td>218.000000</td>\n",
       "      <td>33.000000</td>\n",
       "      <td>2016.000000</td>\n",
       "      <td>24.000000</td>\n",
       "      <td>1.000000</td>\n",
       "      <td>5.000000</td>\n",
       "      <td>26.000000</td>\n",
       "      <td>30099.000000</td>\n",
       "    </tr>\n",
       "    <tr>\n",
       "      <th>max</th>\n",
       "      <td>22149.00000</td>\n",
       "      <td>8.000000</td>\n",
       "      <td>5.000000</td>\n",
       "      <td>9.000000</td>\n",
       "      <td>10846.000000</td>\n",
       "      <td>70.000000</td>\n",
       "      <td>1.000000</td>\n",
       "      <td>1.000000</td>\n",
       "      <td>1.000000</td>\n",
       "      <td>271.000000</td>\n",
       "      <td>98.000000</td>\n",
       "      <td>2023.000000</td>\n",
       "      <td>39.000000</td>\n",
       "      <td>1.000000</td>\n",
       "      <td>6.000000</td>\n",
       "      <td>32.000000</td>\n",
       "      <td>55144.000000</td>\n",
       "    </tr>\n",
       "  </tbody>\n",
       "</table>\n",
       "</div>"
      ],
      "text/plain": [
       "        Unnamed: 0  num_refill_req_l3m  transport_issue_l1y  \\\n",
       "count   5529.00000         5529.000000          5529.000000   \n",
       "mean   19385.00000            4.007235             0.765600   \n",
       "std     1596.22915            2.604325             1.187567   \n",
       "min    16621.00000            0.000000             0.000000   \n",
       "25%    18003.00000            2.000000             0.000000   \n",
       "50%    19385.00000            4.000000             0.000000   \n",
       "75%    20767.00000            6.000000             1.000000   \n",
       "max    22149.00000            8.000000             5.000000   \n",
       "\n",
       "       Competitor_in_mkt  retail_shop_num  distributor_num  flood_impacted  \\\n",
       "count        5529.000000      5529.000000      5529.000000     5529.000000   \n",
       "mean            3.106167      4980.695424        42.128052        0.104178   \n",
       "std             1.128396      1049.617325        15.959934        0.305519   \n",
       "min             1.000000      1953.000000        15.000000        0.000000   \n",
       "25%             2.000000      4310.000000        28.000000        0.000000   \n",
       "50%             3.000000      4863.000000        42.000000        0.000000   \n",
       "75%             4.000000      5492.000000        56.000000        0.000000   \n",
       "max             9.000000     10846.000000        70.000000        1.000000   \n",
       "\n",
       "       flood_proof  electric_supply  dist_from_hub  workers_num  wh_est_year  \\\n",
       "count  5529.000000      5529.000000    5529.000000  5319.000000  2844.000000   \n",
       "mean      0.049919         0.657262     163.899982    29.010528  2009.572785   \n",
       "std       0.217797         0.474668      62.544704     7.848478     7.473201   \n",
       "min       0.000000         0.000000      55.000000    10.000000  1996.000000   \n",
       "25%       0.000000         0.000000     110.000000    24.000000  2003.000000   \n",
       "50%       0.000000         1.000000     165.000000    28.000000  2010.000000   \n",
       "75%       0.000000         1.000000     218.000000    33.000000  2016.000000   \n",
       "max       1.000000         1.000000     271.000000    98.000000  2023.000000   \n",
       "\n",
       "       storage_issue_reported_l3m  temp_reg_mach  wh_breakdown_l3m  \\\n",
       "count                 5529.000000    5529.000000       5529.000000   \n",
       "mean                    17.085549       0.298426          3.477302   \n",
       "std                      9.206551       0.457609          1.700717   \n",
       "min                      0.000000       0.000000          0.000000   \n",
       "25%                     10.000000       0.000000          2.000000   \n",
       "50%                     17.000000       0.000000          3.000000   \n",
       "75%                     24.000000       1.000000          5.000000   \n",
       "max                     39.000000       1.000000          6.000000   \n",
       "\n",
       "       govt_check_l3m  product_wg_ton  \n",
       "count     5529.000000     5529.000000  \n",
       "mean        18.892205    22052.334599  \n",
       "std          8.716737    11645.738485  \n",
       "min          1.000000     2065.000000  \n",
       "25%         11.000000    12143.000000  \n",
       "50%         21.000000    22099.000000  \n",
       "75%         26.000000    30099.000000  \n",
       "max         32.000000    55144.000000  "
      ]
     },
     "execution_count": 10,
     "metadata": {},
     "output_type": "execute_result"
    }
   ],
   "source": [
    "data2.describe()"
   ]
  },
  {
   "cell_type": "code",
   "execution_count": 11,
   "metadata": {},
   "outputs": [
    {
     "name": "stdout",
     "output_type": "stream",
     "text": [
      "Unnamed: 0: 16620\n",
      "Ware_house_ID: 16620\n",
      "WH_Manager_ID: 16620\n",
      "Location_type: 2\n",
      "WH_capacity_size: 3\n",
      "zone: 4\n",
      "WH_regional_zone: 6\n",
      "num_refill_req_l3m: 9\n",
      "transport_issue_l1y: 6\n",
      "Competitor_in_mkt: 12\n",
      "retail_shop_num: 4356\n",
      "wh_owner_type: 2\n",
      "distributor_num: 56\n",
      "flood_impacted: 2\n",
      "flood_proof: 2\n",
      "electric_supply: 2\n",
      "dist_from_hub: 217\n",
      "workers_num: 60\n",
      "wh_est_year: 28\n",
      "storage_issue_reported_l3m: 37\n",
      "temp_reg_mach: 2\n",
      "approved_wh_govt_certificate: 5\n",
      "wh_breakdown_l3m: 7\n",
      "govt_check_l3m: 32\n",
      "product_wg_ton: 4248\n"
     ]
    }
   ],
   "source": [
    "for i in data1.columns:\n",
    "    print(f'{i}: {data1[i].nunique()}')"
   ]
  },
  {
   "cell_type": "markdown",
   "metadata": {},
   "source": [
    "## <font color=\"blue\">Handling Missing Values</font>"
   ]
  },
  {
   "cell_type": "code",
   "execution_count": 12,
   "metadata": {},
   "outputs": [
    {
     "data": {
      "text/plain": [
       "Unnamed: 0                         0\n",
       "Ware_house_ID                      0\n",
       "WH_Manager_ID                      0\n",
       "Location_type                      0\n",
       "WH_capacity_size                   0\n",
       "zone                               0\n",
       "WH_regional_zone                   0\n",
       "num_refill_req_l3m                 0\n",
       "transport_issue_l1y                0\n",
       "Competitor_in_mkt                  0\n",
       "retail_shop_num                    0\n",
       "wh_owner_type                      0\n",
       "distributor_num                    0\n",
       "flood_impacted                     0\n",
       "flood_proof                        0\n",
       "electric_supply                    0\n",
       "dist_from_hub                      0\n",
       "workers_num                      667\n",
       "wh_est_year                     7860\n",
       "storage_issue_reported_l3m         0\n",
       "temp_reg_mach                      0\n",
       "approved_wh_govt_certificate     599\n",
       "wh_breakdown_l3m                   0\n",
       "govt_check_l3m                     0\n",
       "product_wg_ton                     0\n",
       "dtype: int64"
      ]
     },
     "execution_count": 12,
     "metadata": {},
     "output_type": "execute_result"
    }
   ],
   "source": [
    "# check missing values\n",
    "data1.isnull().sum() "
   ]
  },
  {
   "cell_type": "code",
   "execution_count": 13,
   "metadata": {},
   "outputs": [
    {
     "data": {
      "text/plain": [
       "Unnamed: 0                         0\n",
       "Ware_house_ID                      0\n",
       "WH_Manager_ID                      0\n",
       "Location_type                      0\n",
       "WH_capacity_size                   0\n",
       "zone                               0\n",
       "WH_regional_zone                   0\n",
       "num_refill_req_l3m                 0\n",
       "transport_issue_l1y                0\n",
       "Competitor_in_mkt                  0\n",
       "retail_shop_num                    0\n",
       "wh_owner_type                      0\n",
       "distributor_num                    0\n",
       "flood_impacted                     0\n",
       "flood_proof                        0\n",
       "electric_supply                    0\n",
       "dist_from_hub                      0\n",
       "workers_num                      210\n",
       "wh_est_year                     2685\n",
       "storage_issue_reported_l3m         0\n",
       "temp_reg_mach                      0\n",
       "approved_wh_govt_certificate     206\n",
       "wh_breakdown_l3m                   0\n",
       "govt_check_l3m                     0\n",
       "product_wg_ton                     0\n",
       "dtype: int64"
      ]
     },
     "execution_count": 13,
     "metadata": {},
     "output_type": "execute_result"
    }
   ],
   "source": [
    "data2.isnull().sum()"
   ]
  },
  {
   "cell_type": "code",
   "execution_count": 14,
   "metadata": {},
   "outputs": [],
   "source": [
    "#Replacing null values with median\n",
    "new_median1=data1[\"wh_est_year\"].median()\n",
    "data1[\"wh_est_year\"].fillna(new_median1,inplace=True)\n",
    "new_median2=data2[\"wh_est_year\"].median()\n",
    "data2[\"wh_est_year\"].fillna(new_median2,inplace=True)"
   ]
  },
  {
   "cell_type": "code",
   "execution_count": 15,
   "metadata": {},
   "outputs": [],
   "source": [
    "data1['workers_num'].fillna(data1['workers_num'].median(), inplace=True)\n",
    "data2['workers_num'].fillna(data2['workers_num'].median(), inplace=True)"
   ]
  },
  {
   "cell_type": "code",
   "execution_count": 16,
   "metadata": {},
   "outputs": [],
   "source": [
    "data1['approved_wh_govt_certificate'].fillna('NIL', inplace=True)  \n",
    "data2['approved_wh_govt_certificate'].fillna('NIL', inplace=True)  "
   ]
  },
  {
   "cell_type": "code",
   "execution_count": 17,
   "metadata": {},
   "outputs": [
    {
     "data": {
      "text/plain": [
       "Unnamed: 0                      0\n",
       "Ware_house_ID                   0\n",
       "WH_Manager_ID                   0\n",
       "Location_type                   0\n",
       "WH_capacity_size                0\n",
       "zone                            0\n",
       "WH_regional_zone                0\n",
       "num_refill_req_l3m              0\n",
       "transport_issue_l1y             0\n",
       "Competitor_in_mkt               0\n",
       "retail_shop_num                 0\n",
       "wh_owner_type                   0\n",
       "distributor_num                 0\n",
       "flood_impacted                  0\n",
       "flood_proof                     0\n",
       "electric_supply                 0\n",
       "dist_from_hub                   0\n",
       "workers_num                     0\n",
       "wh_est_year                     0\n",
       "storage_issue_reported_l3m      0\n",
       "temp_reg_mach                   0\n",
       "approved_wh_govt_certificate    0\n",
       "wh_breakdown_l3m                0\n",
       "govt_check_l3m                  0\n",
       "product_wg_ton                  0\n",
       "dtype: int64"
      ]
     },
     "execution_count": 17,
     "metadata": {},
     "output_type": "execute_result"
    }
   ],
   "source": [
    "data1.isnull().sum()"
   ]
  },
  {
   "cell_type": "code",
   "execution_count": 18,
   "metadata": {},
   "outputs": [
    {
     "data": {
      "text/plain": [
       "Unnamed: 0                      0\n",
       "Ware_house_ID                   0\n",
       "WH_Manager_ID                   0\n",
       "Location_type                   0\n",
       "WH_capacity_size                0\n",
       "zone                            0\n",
       "WH_regional_zone                0\n",
       "num_refill_req_l3m              0\n",
       "transport_issue_l1y             0\n",
       "Competitor_in_mkt               0\n",
       "retail_shop_num                 0\n",
       "wh_owner_type                   0\n",
       "distributor_num                 0\n",
       "flood_impacted                  0\n",
       "flood_proof                     0\n",
       "electric_supply                 0\n",
       "dist_from_hub                   0\n",
       "workers_num                     0\n",
       "wh_est_year                     0\n",
       "storage_issue_reported_l3m      0\n",
       "temp_reg_mach                   0\n",
       "approved_wh_govt_certificate    0\n",
       "wh_breakdown_l3m                0\n",
       "govt_check_l3m                  0\n",
       "product_wg_ton                  0\n",
       "dtype: int64"
      ]
     },
     "execution_count": 18,
     "metadata": {},
     "output_type": "execute_result"
    }
   ],
   "source": [
    "data2.isnull().sum()"
   ]
  },
  {
   "cell_type": "code",
   "execution_count": 19,
   "metadata": {},
   "outputs": [
    {
     "data": {
      "text/plain": [
       "0"
      ]
     },
     "execution_count": 19,
     "metadata": {},
     "output_type": "execute_result"
    }
   ],
   "source": [
    "data1.duplicated().sum()"
   ]
  },
  {
   "cell_type": "code",
   "execution_count": 20,
   "metadata": {},
   "outputs": [
    {
     "data": {
      "text/plain": [
       "0"
      ]
     },
     "execution_count": 20,
     "metadata": {},
     "output_type": "execute_result"
    }
   ],
   "source": [
    "data2.duplicated().sum()"
   ]
  },
  {
   "cell_type": "markdown",
   "metadata": {},
   "source": [
    "## <font color=\"blue\">Exploratory Data Analysis (EDA)</font>"
   ]
  },
  {
   "cell_type": "code",
   "execution_count": 21,
   "metadata": {},
   "outputs": [
    {
     "data": {
      "image/png": "[encoded data removed]",
      "text/plain": [
       "<Figure size 432x288 with 1 Axes>"
      ]
     },
     "metadata": {
      "needs_background": "light"
     },
     "output_type": "display_data"
    }
   ],
   "source": [
    "sns.countplot(x='Location_type',data=data1)\n",
    "plt.title(\"Distribution of Warehouse Location\")\n",
    "plt.show()"
   ]
  },
  {
   "cell_type": "code",
   "execution_count": 22,
   "metadata": {},
   "outputs": [
    {
     "data": {
      "image/png": "[encoded data removed]",
      "text/plain": [
       "<Figure size 432x288 with 1 Axes>"
      ]
     },
     "metadata": {
      "needs_background": "light"
     },
     "output_type": "display_data"
    }
   ],
   "source": [
    "sns.countplot(x='WH_regional_zone',data=data1)\n",
    "plt.title(\"Distribution of  Warehouse in Regional zones\")\n",
    "plt.show()"
   ]
  },
  {
   "cell_type": "code",
   "execution_count": 23,
   "metadata": {},
   "outputs": [
    {
     "data": {
      "text/plain": [
       "<AxesSubplot:xlabel='wh_est_year', ylabel='wh_breakdown_l3m'>"
      ]
     },
     "execution_count": 23,
     "metadata": {},
     "output_type": "execute_result"
    },
    {
     "data": {
      "image/png": "[encoded data removed]",
      "text/plain": [
       "<Figure size 432x288 with 1 Axes>"
      ]
     },
     "metadata": {
      "needs_background": "light"
     },
     "output_type": "display_data"
    }
   ],
   "source": [
    "sns.lineplot(data=data1, x=\"wh_est_year\", y=\"wh_breakdown_l3m\")"
   ]
  },
  {
   "cell_type": "code",
   "execution_count": 24,
   "metadata": {},
   "outputs": [
    {
     "data": {
      "image/png": "[encoded data removed]",
      "text/plain": [
       "<Figure size 432x288 with 1 Axes>"
      ]
     },
     "metadata": {
      "needs_background": "light"
     },
     "output_type": "display_data"
    }
   ],
   "source": [
    "sns.barplot(data=data1, x='Location_type', y='num_refill_req_l3m')\n",
    "plt.title('Refill request by ware house by Location Type')\n",
    "plt.xlabel('Location Type')\n",
    "plt.ylabel('Count of Refill request (Last 3 Year)')\n",
    "plt.show()"
   ]
  },
  {
   "cell_type": "code",
   "execution_count": 25,
   "metadata": {},
   "outputs": [
    {
     "data": {
      "image/png": "[encoded data removed]",
      "text/plain": [
       "<Figure size 864x576 with 1 Axes>"
      ]
     },
     "metadata": {
      "needs_background": "light"
     },
     "output_type": "display_data"
    }
   ],
   "source": [
    "plt.figure(figsize=(12,8))\n",
    "sns.countplot(x=data1['storage_issue_reported_l3m'],hue=data1['Location_type'])\n",
    "plt.title('Count of Storage Issues Reported in the Last 3 Months by Location Type')\n",
    "plt.xlabel('Storage Issue Reported (Last 3 Months)')\n",
    "plt.ylabel('Count')\n",
    "plt.show()"
   ]
  },
  {
   "cell_type": "code",
   "execution_count": 26,
   "metadata": {},
   "outputs": [
    {
     "data": {
      "image/png": "[encoded data removed]",
      "text/plain": [
       "<Figure size 432x288 with 1 Axes>"
      ]
     },
     "metadata": {
      "needs_background": "light"
     },
     "output_type": "display_data"
    }
   ],
   "source": [
    "sns.barplot(data=data1, x='Location_type', y='transport_issue_l1y')\n",
    "plt.title('Transportation Issues by Location Type')\n",
    "plt.xlabel('Location Type')\n",
    "plt.ylabel('Count of Transportation Issues (Last 1 Year)')\n",
    "plt.show()"
   ]
  },
  {
   "cell_type": "markdown",
   "metadata": {},
   "source": [
    "#EDA Analysis\n",
    "North zone have more number of warehouse,so we can assume that the supply is more in North zone\n",
    "Most of the warehouse is located in Rural areas.\n",
    "Warehouses tend to break down more often as they age. Warehouse managers should be more proactive in maintaining their warehouses and have a plan in place to deal with breakdowns when they happen.\n",
    "The graph shows that compared to urban area rural area have more storage issues reported.\n",
    "The graph shows that the transportation issues is slightly higher in urban areas than in rural areas."
   ]
  },
  {
   "cell_type": "markdown",
   "metadata": {},
   "source": [
    "## <font color=\"blue\">Encoding Categorical Features</font>"
   ]
  },
  {
   "cell_type": "code",
   "execution_count": 27,
   "metadata": {},
   "outputs": [
    {
     "data": {
      "text/html": [
       "<div>\n",
       "<style scoped>\n",
       "    .dataframe tbody tr th:only-of-type {\n",
       "        vertical-align: middle;\n",
       "    }\n",
       "\n",
       "    .dataframe tbody tr th {\n",
       "        vertical-align: top;\n",
       "    }\n",
       "\n",
       "    .dataframe thead th {\n",
       "        text-align: right;\n",
       "    }\n",
       "</style>\n",
       "<table border=\"1\" class=\"dataframe\">\n",
       "  <thead>\n",
       "    <tr style=\"text-align: right;\">\n",
       "      <th></th>\n",
       "      <th>Ware_house_ID</th>\n",
       "      <th>WH_Manager_ID</th>\n",
       "      <th>Location_type</th>\n",
       "      <th>WH_capacity_size</th>\n",
       "      <th>zone</th>\n",
       "      <th>WH_regional_zone</th>\n",
       "      <th>num_refill_req_l3m</th>\n",
       "      <th>transport_issue_l1y</th>\n",
       "      <th>Competitor_in_mkt</th>\n",
       "      <th>retail_shop_num</th>\n",
       "      <th>...</th>\n",
       "      <th>electric_supply</th>\n",
       "      <th>dist_from_hub</th>\n",
       "      <th>workers_num</th>\n",
       "      <th>wh_est_year</th>\n",
       "      <th>storage_issue_reported_l3m</th>\n",
       "      <th>temp_reg_mach</th>\n",
       "      <th>approved_wh_govt_certificate</th>\n",
       "      <th>wh_breakdown_l3m</th>\n",
       "      <th>govt_check_l3m</th>\n",
       "      <th>product_wg_ton</th>\n",
       "    </tr>\n",
       "  </thead>\n",
       "  <tbody>\n",
       "    <tr>\n",
       "      <th>0</th>\n",
       "      <td>WH_100000</td>\n",
       "      <td>EID_50000</td>\n",
       "      <td>Urban</td>\n",
       "      <td>Small</td>\n",
       "      <td>West</td>\n",
       "      <td>Zone 6</td>\n",
       "      <td>3</td>\n",
       "      <td>1</td>\n",
       "      <td>2</td>\n",
       "      <td>4651</td>\n",
       "      <td>...</td>\n",
       "      <td>1</td>\n",
       "      <td>91</td>\n",
       "      <td>29.0</td>\n",
       "      <td>2009.0</td>\n",
       "      <td>13</td>\n",
       "      <td>0</td>\n",
       "      <td>A</td>\n",
       "      <td>5</td>\n",
       "      <td>15</td>\n",
       "      <td>17115</td>\n",
       "    </tr>\n",
       "    <tr>\n",
       "      <th>1</th>\n",
       "      <td>WH_100001</td>\n",
       "      <td>EID_50001</td>\n",
       "      <td>Rural</td>\n",
       "      <td>Large</td>\n",
       "      <td>North</td>\n",
       "      <td>Zone 5</td>\n",
       "      <td>0</td>\n",
       "      <td>0</td>\n",
       "      <td>4</td>\n",
       "      <td>6217</td>\n",
       "      <td>...</td>\n",
       "      <td>1</td>\n",
       "      <td>210</td>\n",
       "      <td>31.0</td>\n",
       "      <td>2009.0</td>\n",
       "      <td>4</td>\n",
       "      <td>0</td>\n",
       "      <td>A</td>\n",
       "      <td>3</td>\n",
       "      <td>17</td>\n",
       "      <td>5074</td>\n",
       "    </tr>\n",
       "  </tbody>\n",
       "</table>\n",
       "<p>2 rows × 24 columns</p>\n",
       "</div>"
      ],
      "text/plain": [
       "  Ware_house_ID WH_Manager_ID Location_type WH_capacity_size   zone  \\\n",
       "0     WH_100000     EID_50000         Urban            Small   West   \n",
       "1     WH_100001     EID_50001         Rural            Large  North   \n",
       "\n",
       "  WH_regional_zone  num_refill_req_l3m  transport_issue_l1y  \\\n",
       "0           Zone 6                   3                    1   \n",
       "1           Zone 5                   0                    0   \n",
       "\n",
       "   Competitor_in_mkt  retail_shop_num  ... electric_supply  dist_from_hub  \\\n",
       "0                  2             4651  ...               1             91   \n",
       "1                  4             6217  ...               1            210   \n",
       "\n",
       "   workers_num  wh_est_year  storage_issue_reported_l3m  temp_reg_mach  \\\n",
       "0         29.0       2009.0                          13              0   \n",
       "1         31.0       2009.0                           4              0   \n",
       "\n",
       "   approved_wh_govt_certificate  wh_breakdown_l3m  govt_check_l3m  \\\n",
       "0                             A                 5              15   \n",
       "1                             A                 3              17   \n",
       "\n",
       "   product_wg_ton  \n",
       "0           17115  \n",
       "1            5074  \n",
       "\n",
       "[2 rows x 24 columns]"
      ]
     },
     "execution_count": 27,
     "metadata": {},
     "output_type": "execute_result"
    }
   ],
   "source": [
    "#dropping unnamed column\n",
    "data1=data1.drop('Unnamed: 0',axis=1)\n",
    "data1.head(2)"
   ]
  },
  {
   "cell_type": "code",
   "execution_count": 28,
   "metadata": {},
   "outputs": [
    {
     "data": {
      "text/html": [
       "<div>\n",
       "<style scoped>\n",
       "    .dataframe tbody tr th:only-of-type {\n",
       "        vertical-align: middle;\n",
       "    }\n",
       "\n",
       "    .dataframe tbody tr th {\n",
       "        vertical-align: top;\n",
       "    }\n",
       "\n",
       "    .dataframe thead th {\n",
       "        text-align: right;\n",
       "    }\n",
       "</style>\n",
       "<table border=\"1\" class=\"dataframe\">\n",
       "  <thead>\n",
       "    <tr style=\"text-align: right;\">\n",
       "      <th></th>\n",
       "      <th>Ware_house_ID</th>\n",
       "      <th>WH_Manager_ID</th>\n",
       "      <th>Location_type</th>\n",
       "      <th>WH_capacity_size</th>\n",
       "      <th>zone</th>\n",
       "      <th>WH_regional_zone</th>\n",
       "      <th>num_refill_req_l3m</th>\n",
       "      <th>transport_issue_l1y</th>\n",
       "      <th>Competitor_in_mkt</th>\n",
       "      <th>retail_shop_num</th>\n",
       "      <th>...</th>\n",
       "      <th>electric_supply</th>\n",
       "      <th>dist_from_hub</th>\n",
       "      <th>workers_num</th>\n",
       "      <th>wh_est_year</th>\n",
       "      <th>storage_issue_reported_l3m</th>\n",
       "      <th>temp_reg_mach</th>\n",
       "      <th>approved_wh_govt_certificate</th>\n",
       "      <th>wh_breakdown_l3m</th>\n",
       "      <th>govt_check_l3m</th>\n",
       "      <th>product_wg_ton</th>\n",
       "    </tr>\n",
       "  </thead>\n",
       "  <tbody>\n",
       "    <tr>\n",
       "      <th>0</th>\n",
       "      <td>WH_116621</td>\n",
       "      <td>EID_66621</td>\n",
       "      <td>Rural</td>\n",
       "      <td>Large</td>\n",
       "      <td>North</td>\n",
       "      <td>Zone 5</td>\n",
       "      <td>5</td>\n",
       "      <td>0</td>\n",
       "      <td>3</td>\n",
       "      <td>5590</td>\n",
       "      <td>...</td>\n",
       "      <td>0</td>\n",
       "      <td>156</td>\n",
       "      <td>30.0</td>\n",
       "      <td>2006.0</td>\n",
       "      <td>24</td>\n",
       "      <td>0</td>\n",
       "      <td>A</td>\n",
       "      <td>2</td>\n",
       "      <td>5</td>\n",
       "      <td>30132</td>\n",
       "    </tr>\n",
       "    <tr>\n",
       "      <th>1</th>\n",
       "      <td>WH_116622</td>\n",
       "      <td>EID_66622</td>\n",
       "      <td>Rural</td>\n",
       "      <td>Large</td>\n",
       "      <td>North</td>\n",
       "      <td>Zone 5</td>\n",
       "      <td>5</td>\n",
       "      <td>0</td>\n",
       "      <td>2</td>\n",
       "      <td>5856</td>\n",
       "      <td>...</td>\n",
       "      <td>1</td>\n",
       "      <td>79</td>\n",
       "      <td>31.0</td>\n",
       "      <td>2019.0</td>\n",
       "      <td>5</td>\n",
       "      <td>1</td>\n",
       "      <td>C</td>\n",
       "      <td>2</td>\n",
       "      <td>24</td>\n",
       "      <td>6075</td>\n",
       "    </tr>\n",
       "  </tbody>\n",
       "</table>\n",
       "<p>2 rows × 24 columns</p>\n",
       "</div>"
      ],
      "text/plain": [
       "  Ware_house_ID WH_Manager_ID Location_type WH_capacity_size   zone  \\\n",
       "0     WH_116621     EID_66621         Rural            Large  North   \n",
       "1     WH_116622     EID_66622         Rural            Large  North   \n",
       "\n",
       "  WH_regional_zone  num_refill_req_l3m  transport_issue_l1y  \\\n",
       "0           Zone 5                   5                    0   \n",
       "1           Zone 5                   5                    0   \n",
       "\n",
       "   Competitor_in_mkt  retail_shop_num  ... electric_supply  dist_from_hub  \\\n",
       "0                  3             5590  ...               0            156   \n",
       "1                  2             5856  ...               1             79   \n",
       "\n",
       "   workers_num  wh_est_year  storage_issue_reported_l3m  temp_reg_mach  \\\n",
       "0         30.0       2006.0                          24              0   \n",
       "1         31.0       2019.0                           5              1   \n",
       "\n",
       "   approved_wh_govt_certificate  wh_breakdown_l3m  govt_check_l3m  \\\n",
       "0                             A                 2               5   \n",
       "1                             C                 2              24   \n",
       "\n",
       "   product_wg_ton  \n",
       "0           30132  \n",
       "1            6075  \n",
       "\n",
       "[2 rows x 24 columns]"
      ]
     },
     "execution_count": 28,
     "metadata": {},
     "output_type": "execute_result"
    }
   ],
   "source": [
    "#dropping unnamed column\n",
    "data2=data2.drop('Unnamed: 0',axis=1)\n",
    "data2.head(2)"
   ]
  },
  {
   "cell_type": "code",
   "execution_count": 29,
   "metadata": {},
   "outputs": [
    {
     "data": {
      "text/html": [
       "<div>\n",
       "<style scoped>\n",
       "    .dataframe tbody tr th:only-of-type {\n",
       "        vertical-align: middle;\n",
       "    }\n",
       "\n",
       "    .dataframe tbody tr th {\n",
       "        vertical-align: top;\n",
       "    }\n",
       "\n",
       "    .dataframe thead th {\n",
       "        text-align: right;\n",
       "    }\n",
       "</style>\n",
       "<table border=\"1\" class=\"dataframe\">\n",
       "  <thead>\n",
       "    <tr style=\"text-align: right;\">\n",
       "      <th></th>\n",
       "      <th>Ware_house_ID</th>\n",
       "      <th>WH_Manager_ID</th>\n",
       "      <th>Location_type</th>\n",
       "      <th>WH_capacity_size</th>\n",
       "      <th>zone</th>\n",
       "      <th>WH_regional_zone</th>\n",
       "      <th>num_refill_req_l3m</th>\n",
       "      <th>transport_issue_l1y</th>\n",
       "      <th>Competitor_in_mkt</th>\n",
       "      <th>retail_shop_num</th>\n",
       "      <th>...</th>\n",
       "      <th>electric_supply</th>\n",
       "      <th>dist_from_hub</th>\n",
       "      <th>workers_num</th>\n",
       "      <th>wh_est_year</th>\n",
       "      <th>storage_issue_reported_l3m</th>\n",
       "      <th>temp_reg_mach</th>\n",
       "      <th>approved_wh_govt_certificate</th>\n",
       "      <th>wh_breakdown_l3m</th>\n",
       "      <th>govt_check_l3m</th>\n",
       "      <th>product_wg_ton</th>\n",
       "    </tr>\n",
       "  </thead>\n",
       "  <tbody>\n",
       "    <tr>\n",
       "      <th>0</th>\n",
       "      <td>WH_100000</td>\n",
       "      <td>EID_50000</td>\n",
       "      <td>1</td>\n",
       "      <td>2</td>\n",
       "      <td>3</td>\n",
       "      <td>5</td>\n",
       "      <td>3</td>\n",
       "      <td>1</td>\n",
       "      <td>2</td>\n",
       "      <td>4651</td>\n",
       "      <td>...</td>\n",
       "      <td>1</td>\n",
       "      <td>91</td>\n",
       "      <td>29.0</td>\n",
       "      <td>2009.0</td>\n",
       "      <td>13</td>\n",
       "      <td>0</td>\n",
       "      <td>0</td>\n",
       "      <td>5</td>\n",
       "      <td>15</td>\n",
       "      <td>17115</td>\n",
       "    </tr>\n",
       "    <tr>\n",
       "      <th>1</th>\n",
       "      <td>WH_100001</td>\n",
       "      <td>EID_50001</td>\n",
       "      <td>0</td>\n",
       "      <td>0</td>\n",
       "      <td>1</td>\n",
       "      <td>4</td>\n",
       "      <td>0</td>\n",
       "      <td>0</td>\n",
       "      <td>4</td>\n",
       "      <td>6217</td>\n",
       "      <td>...</td>\n",
       "      <td>1</td>\n",
       "      <td>210</td>\n",
       "      <td>31.0</td>\n",
       "      <td>2009.0</td>\n",
       "      <td>4</td>\n",
       "      <td>0</td>\n",
       "      <td>0</td>\n",
       "      <td>3</td>\n",
       "      <td>17</td>\n",
       "      <td>5074</td>\n",
       "    </tr>\n",
       "    <tr>\n",
       "      <th>2</th>\n",
       "      <td>WH_100002</td>\n",
       "      <td>EID_50002</td>\n",
       "      <td>0</td>\n",
       "      <td>1</td>\n",
       "      <td>2</td>\n",
       "      <td>1</td>\n",
       "      <td>1</td>\n",
       "      <td>0</td>\n",
       "      <td>4</td>\n",
       "      <td>4306</td>\n",
       "      <td>...</td>\n",
       "      <td>0</td>\n",
       "      <td>161</td>\n",
       "      <td>37.0</td>\n",
       "      <td>2009.0</td>\n",
       "      <td>17</td>\n",
       "      <td>0</td>\n",
       "      <td>0</td>\n",
       "      <td>6</td>\n",
       "      <td>22</td>\n",
       "      <td>23137</td>\n",
       "    </tr>\n",
       "    <tr>\n",
       "      <th>3</th>\n",
       "      <td>WH_100003</td>\n",
       "      <td>EID_50003</td>\n",
       "      <td>0</td>\n",
       "      <td>1</td>\n",
       "      <td>1</td>\n",
       "      <td>2</td>\n",
       "      <td>7</td>\n",
       "      <td>4</td>\n",
       "      <td>2</td>\n",
       "      <td>6000</td>\n",
       "      <td>...</td>\n",
       "      <td>0</td>\n",
       "      <td>103</td>\n",
       "      <td>21.0</td>\n",
       "      <td>2009.0</td>\n",
       "      <td>17</td>\n",
       "      <td>1</td>\n",
       "      <td>1</td>\n",
       "      <td>3</td>\n",
       "      <td>27</td>\n",
       "      <td>22115</td>\n",
       "    </tr>\n",
       "    <tr>\n",
       "      <th>4</th>\n",
       "      <td>WH_100004</td>\n",
       "      <td>EID_50004</td>\n",
       "      <td>0</td>\n",
       "      <td>0</td>\n",
       "      <td>1</td>\n",
       "      <td>4</td>\n",
       "      <td>3</td>\n",
       "      <td>1</td>\n",
       "      <td>2</td>\n",
       "      <td>4740</td>\n",
       "      <td>...</td>\n",
       "      <td>1</td>\n",
       "      <td>112</td>\n",
       "      <td>25.0</td>\n",
       "      <td>2009.0</td>\n",
       "      <td>18</td>\n",
       "      <td>0</td>\n",
       "      <td>4</td>\n",
       "      <td>6</td>\n",
       "      <td>24</td>\n",
       "      <td>24071</td>\n",
       "    </tr>\n",
       "  </tbody>\n",
       "</table>\n",
       "<p>5 rows × 24 columns</p>\n",
       "</div>"
      ],
      "text/plain": [
       "  Ware_house_ID WH_Manager_ID  Location_type  WH_capacity_size  zone  \\\n",
       "0     WH_100000     EID_50000              1                 2     3   \n",
       "1     WH_100001     EID_50001              0                 0     1   \n",
       "2     WH_100002     EID_50002              0                 1     2   \n",
       "3     WH_100003     EID_50003              0                 1     1   \n",
       "4     WH_100004     EID_50004              0                 0     1   \n",
       "\n",
       "   WH_regional_zone  num_refill_req_l3m  transport_issue_l1y  \\\n",
       "0                 5                   3                    1   \n",
       "1                 4                   0                    0   \n",
       "2                 1                   1                    0   \n",
       "3                 2                   7                    4   \n",
       "4                 4                   3                    1   \n",
       "\n",
       "   Competitor_in_mkt  retail_shop_num  ...  electric_supply  dist_from_hub  \\\n",
       "0                  2             4651  ...                1             91   \n",
       "1                  4             6217  ...                1            210   \n",
       "2                  4             4306  ...                0            161   \n",
       "3                  2             6000  ...                0            103   \n",
       "4                  2             4740  ...                1            112   \n",
       "\n",
       "   workers_num  wh_est_year  storage_issue_reported_l3m  temp_reg_mach  \\\n",
       "0         29.0       2009.0                          13              0   \n",
       "1         31.0       2009.0                           4              0   \n",
       "2         37.0       2009.0                          17              0   \n",
       "3         21.0       2009.0                          17              1   \n",
       "4         25.0       2009.0                          18              0   \n",
       "\n",
       "   approved_wh_govt_certificate  wh_breakdown_l3m  govt_check_l3m  \\\n",
       "0                             0                 5              15   \n",
       "1                             0                 3              17   \n",
       "2                             0                 6              22   \n",
       "3                             1                 3              27   \n",
       "4                             4                 6              24   \n",
       "\n",
       "   product_wg_ton  \n",
       "0           17115  \n",
       "1            5074  \n",
       "2           23137  \n",
       "3           22115  \n",
       "4           24071  \n",
       "\n",
       "[5 rows x 24 columns]"
      ]
     },
     "execution_count": 29,
     "metadata": {},
     "output_type": "execute_result"
    }
   ],
   "source": [
    "#Label Encoding Categorical variable in training data\n",
    "from sklearn.preprocessing import LabelEncoder\n",
    "le=LabelEncoder()\n",
    "data1['Location_type']=le.fit_transform(data1['Location_type'])\n",
    "data1['WH_capacity_size']=le.fit_transform(data1['WH_capacity_size'])\n",
    "data1['approved_wh_govt_certificate']=le.fit_transform(data1['approved_wh_govt_certificate'])\n",
    "data1[\"zone\"]=le.fit_transform(data1[\"zone\"])\n",
    "data1[\"WH_regional_zone\"]=le.fit_transform(data1[\"WH_regional_zone\"])\n",
    "data1[\"wh_owner_type\"]=le.fit_transform(data1[\"wh_owner_type\"])\n",
    "data1.head()"
   ]
  },
  {
   "cell_type": "code",
   "execution_count": 30,
   "metadata": {},
   "outputs": [
    {
     "data": {
      "image/png": "[encoded data removed]",
      "text/plain": [
       "<Figure size 1008x720 with 2 Axes>"
      ]
     },
     "metadata": {
      "needs_background": "light"
     },
     "output_type": "display_data"
    }
   ],
   "source": [
    "#Data Analysis\n",
    "numeric_data1 = data1.select_dtypes(include=['number'])\n",
    "corr=numeric_data1.corr()\n",
    "plt.figure(figsize=(14, 10))\n",
    "sns.heatmap(corr,annot=True,cmap = 'Greens',fmt='.2f')\n",
    "plt.title('Correlation Between Training Data')\n",
    "plt.show()"
   ]
  },
  {
   "cell_type": "markdown",
   "metadata": {},
   "source": [
    "The observations from this correlation matrix is that variables that have strong positive correlation(as one variable increases, the other variable tends to increase proportionally) is storage_issue_reported_l3m .The variables that have moderate positive correlation(as one variable increases, the other variable also increases moderately) are num_refill_req_l3m .The variables that have a strong negative correlation(as one variable increases, the other variable tends to decrease significantly) are wh_est_year. The variables that have weak correlation are Ware_house_ID, WH_Manager_ID, Location_type, WH_capacity_size, zone, WH_regional_zone, num_refill_req_l3m, transport_issue_l1y, Competitor_in_mkt, retail_shop_num ,wh_owner_type, distributor_num, flood_impacted, flood_proof, electric_supply, dist_from_hub, workers_num,temp_reg_mach, approved_wh_govt_certificate, govt_check_l3m."
   ]
  },
  {
   "cell_type": "code",
   "execution_count": 31,
   "metadata": {},
   "outputs": [],
   "source": [
    "#changing Warehouse id to numeric value\n",
    "def num(d):\n",
    "    num = ''.join(filter(str.isdigit, d))\n",
    "    return int(num)\n",
    "data1['Ware_house_ID']=data1['Ware_house_ID'].apply(num)"
   ]
  },
  {
   "cell_type": "code",
   "execution_count": 32,
   "metadata": {},
   "outputs": [],
   "source": [
    "#Removing less relevant features\n",
    "data1=data1.drop(['WH_Manager_ID','zone','wh_owner_type'],axis=1)"
   ]
  },
  {
   "cell_type": "code",
   "execution_count": 33,
   "metadata": {},
   "outputs": [
    {
     "name": "stdout",
     "output_type": "stream",
     "text": [
      "<class 'pandas.core.frame.DataFrame'>\n",
      "RangeIndex: 16620 entries, 0 to 16619\n",
      "Data columns (total 21 columns):\n",
      " #   Column                        Non-Null Count  Dtype  \n",
      "---  ------                        --------------  -----  \n",
      " 0   Ware_house_ID                 16620 non-null  int64  \n",
      " 1   Location_type                 16620 non-null  int32  \n",
      " 2   WH_capacity_size              16620 non-null  int32  \n",
      " 3   WH_regional_zone              16620 non-null  int32  \n",
      " 4   num_refill_req_l3m            16620 non-null  int64  \n",
      " 5   transport_issue_l1y           16620 non-null  int64  \n",
      " 6   Competitor_in_mkt             16620 non-null  int64  \n",
      " 7   retail_shop_num               16620 non-null  int64  \n",
      " 8   distributor_num               16620 non-null  int64  \n",
      " 9   flood_impacted                16620 non-null  int64  \n",
      " 10  flood_proof                   16620 non-null  int64  \n",
      " 11  electric_supply               16620 non-null  int64  \n",
      " 12  dist_from_hub                 16620 non-null  int64  \n",
      " 13  workers_num                   16620 non-null  float64\n",
      " 14  wh_est_year                   16620 non-null  float64\n",
      " 15  storage_issue_reported_l3m    16620 non-null  int64  \n",
      " 16  temp_reg_mach                 16620 non-null  int64  \n",
      " 17  approved_wh_govt_certificate  16620 non-null  int32  \n",
      " 18  wh_breakdown_l3m              16620 non-null  int64  \n",
      " 19  govt_check_l3m                16620 non-null  int64  \n",
      " 20  product_wg_ton                16620 non-null  int64  \n",
      "dtypes: float64(2), int32(4), int64(15)\n",
      "memory usage: 2.4 MB\n"
     ]
    }
   ],
   "source": [
    "data1.info()"
   ]
  },
  {
   "cell_type": "code",
   "execution_count": 34,
   "metadata": {},
   "outputs": [
    {
     "name": "stdout",
     "output_type": "stream",
     "text": [
      "<class 'pandas.core.frame.DataFrame'>\n",
      "RangeIndex: 5529 entries, 0 to 5528\n",
      "Data columns (total 24 columns):\n",
      " #   Column                        Non-Null Count  Dtype  \n",
      "---  ------                        --------------  -----  \n",
      " 0   Ware_house_ID                 5529 non-null   object \n",
      " 1   WH_Manager_ID                 5529 non-null   object \n",
      " 2   Location_type                 5529 non-null   int32  \n",
      " 3   WH_capacity_size              5529 non-null   int32  \n",
      " 4   zone                          5529 non-null   int32  \n",
      " 5   WH_regional_zone              5529 non-null   int32  \n",
      " 6   num_refill_req_l3m            5529 non-null   int64  \n",
      " 7   transport_issue_l1y           5529 non-null   int64  \n",
      " 8   Competitor_in_mkt             5529 non-null   int64  \n",
      " 9   retail_shop_num               5529 non-null   int64  \n",
      " 10  wh_owner_type                 5529 non-null   int32  \n",
      " 11  distributor_num               5529 non-null   int64  \n",
      " 12  flood_impacted                5529 non-null   int64  \n",
      " 13  flood_proof                   5529 non-null   int64  \n",
      " 14  electric_supply               5529 non-null   int64  \n",
      " 15  dist_from_hub                 5529 non-null   int64  \n",
      " 16  workers_num                   5529 non-null   float64\n",
      " 17  wh_est_year                   5529 non-null   float64\n",
      " 18  storage_issue_reported_l3m    5529 non-null   int64  \n",
      " 19  temp_reg_mach                 5529 non-null   int64  \n",
      " 20  approved_wh_govt_certificate  5529 non-null   int32  \n",
      " 21  wh_breakdown_l3m              5529 non-null   int64  \n",
      " 22  govt_check_l3m                5529 non-null   int64  \n",
      " 23  product_wg_ton                5529 non-null   int64  \n",
      "dtypes: float64(2), int32(6), int64(14), object(2)\n",
      "memory usage: 907.2+ KB\n"
     ]
    }
   ],
   "source": [
    "#Label Encoding Categorical variable in testing data\n",
    "le=LabelEncoder()\n",
    "data2['Location_type']=le.fit_transform(data2['Location_type'])\n",
    "data2['WH_capacity_size']=le.fit_transform(data2['WH_capacity_size'])\n",
    "data2['approved_wh_govt_certificate']=le.fit_transform(data2['approved_wh_govt_certificate'])\n",
    "data2[\"zone\"]=le.fit_transform(data2[\"zone\"])\n",
    "data2[\"WH_regional_zone\"]=le.fit_transform(data2[\"WH_regional_zone\"])\n",
    "data2[\"wh_owner_type\"]=le.fit_transform(data2[\"wh_owner_type\"])\n",
    "data2.info()"
   ]
  },
  {
   "cell_type": "code",
   "execution_count": 35,
   "metadata": {},
   "outputs": [],
   "source": [
    "data2['Ware_house_ID']=data2['Ware_house_ID'].apply(num)"
   ]
  },
  {
   "cell_type": "code",
   "execution_count": 36,
   "metadata": {},
   "outputs": [],
   "source": [
    "#Removing less relevant features\n",
    "data2=data2.drop(['WH_Manager_ID','zone','wh_owner_type'],axis=1)"
   ]
  },
  {
   "cell_type": "code",
   "execution_count": 37,
   "metadata": {},
   "outputs": [
    {
     "name": "stdout",
     "output_type": "stream",
     "text": [
      "<class 'pandas.core.frame.DataFrame'>\n",
      "RangeIndex: 5529 entries, 0 to 5528\n",
      "Data columns (total 21 columns):\n",
      " #   Column                        Non-Null Count  Dtype  \n",
      "---  ------                        --------------  -----  \n",
      " 0   Ware_house_ID                 5529 non-null   int64  \n",
      " 1   Location_type                 5529 non-null   int32  \n",
      " 2   WH_capacity_size              5529 non-null   int32  \n",
      " 3   WH_regional_zone              5529 non-null   int32  \n",
      " 4   num_refill_req_l3m            5529 non-null   int64  \n",
      " 5   transport_issue_l1y           5529 non-null   int64  \n",
      " 6   Competitor_in_mkt             5529 non-null   int64  \n",
      " 7   retail_shop_num               5529 non-null   int64  \n",
      " 8   distributor_num               5529 non-null   int64  \n",
      " 9   flood_impacted                5529 non-null   int64  \n",
      " 10  flood_proof                   5529 non-null   int64  \n",
      " 11  electric_supply               5529 non-null   int64  \n",
      " 12  dist_from_hub                 5529 non-null   int64  \n",
      " 13  workers_num                   5529 non-null   float64\n",
      " 14  wh_est_year                   5529 non-null   float64\n",
      " 15  storage_issue_reported_l3m    5529 non-null   int64  \n",
      " 16  temp_reg_mach                 5529 non-null   int64  \n",
      " 17  approved_wh_govt_certificate  5529 non-null   int32  \n",
      " 18  wh_breakdown_l3m              5529 non-null   int64  \n",
      " 19  govt_check_l3m                5529 non-null   int64  \n",
      " 20  product_wg_ton                5529 non-null   int64  \n",
      "dtypes: float64(2), int32(4), int64(15)\n",
      "memory usage: 820.8 KB\n"
     ]
    }
   ],
   "source": [
    "data2.info()"
   ]
  },
  {
   "cell_type": "markdown",
   "metadata": {},
   "source": [
    "## <font color=\"blue\">Model Selection and Training</font>"
   ]
  },
  {
   "cell_type": "code",
   "execution_count": 38,
   "metadata": {},
   "outputs": [],
   "source": [
    "X_train=data1.drop('product_wg_ton',axis=1)\n",
    "y_train=data1['product_wg_ton']\n",
    "X_test=data2.drop('product_wg_ton',axis=1)\n",
    "y_test=data2['product_wg_ton']"
   ]
  },
  {
   "cell_type": "code",
   "execution_count": 39,
   "metadata": {},
   "outputs": [],
   "source": [
    "from sklearn.linear_model import LinearRegression\n",
    "from sklearn.tree import DecisionTreeRegressor\n",
    "from sklearn.ensemble import RandomForestRegressor, GradientBoostingRegressor\n",
    "from sklearn.svm import SVR\n",
    "from sklearn.metrics import mean_squared_error, mean_absolute_error, r2_score\n",
    "from sklearn.model_selection import GridSearchCV"
   ]
  },
  {
   "cell_type": "markdown",
   "metadata": {},
   "source": [
    "## <font color=\"blue\">Linear Regression</font>"
   ]
  },
  {
   "cell_type": "code",
   "execution_count": 40,
   "metadata": {},
   "outputs": [
    {
     "name": "stdout",
     "output_type": "stream",
     "text": [
      "Evaluation Result \n",
      "\n",
      "mean square error =  3092565.4313959545\n",
      "mean absolute error =  1301.8291725261297\n",
      "r2 score =  97.67389231239801 \n",
      "\n"
     ]
    }
   ],
   "source": [
    "lr=LinearRegression() # object creation\n",
    "lr.fit(X_train,y_train) # model building\n",
    "lr_pred=lr.predict(X_test)\n",
    "score=r2_score(lr_pred,y_test)\n",
    "mse=mean_squared_error(lr_pred,y_test)\n",
    "msa=mean_absolute_error(lr_pred,y_test)\n",
    "print(\"Evaluation Result \\n\")\n",
    "print(\"mean square error = \",mse)\n",
    "print(\"mean absolute error = \",msa)\n",
    "print(\"r2 score = \",score*100,'\\n')"
   ]
  },
  {
   "cell_type": "markdown",
   "metadata": {},
   "source": [
    "## <font color=\"blue\">Decision Tree</font>"
   ]
  },
  {
   "cell_type": "code",
   "execution_count": 40,
   "metadata": {},
   "outputs": [
    {
     "data": {
      "text/plain": [
       "GridSearchCV(cv=5, estimator=DecisionTreeRegressor(),\n",
       "             param_grid={'criterion': ['mse', 'friedman_mse'],\n",
       "                         'max_depth': [1, 2, 3, 4, 5],\n",
       "                         'max_features': ['auto', 'sqrt', 'log2']},\n",
       "             scoring='neg_mean_squared_error')"
      ]
     },
     "execution_count": 40,
     "metadata": {},
     "output_type": "execute_result"
    }
   ],
   "source": [
    "parameter = {\n",
    "    'criterion': ['mse', 'friedman_mse'],\n",
    "    'max_depth': [1, 2, 3, 4, 5],\n",
    "    'max_features': ['auto', 'sqrt', 'log2']\n",
    "}\n",
    "dt=DecisionTreeRegressor()\n",
    "cv = GridSearchCV(dt, parameter, scoring='neg_mean_squared_error', cv=5)\n",
    "cv.fit(X_train,y_train)"
   ]
  },
  {
   "cell_type": "code",
   "execution_count": 41,
   "metadata": {},
   "outputs": [
    {
     "data": {
      "text/plain": [
       "DecisionTreeRegressor(max_depth=5, max_features='auto')"
      ]
     },
     "execution_count": 41,
     "metadata": {},
     "output_type": "execute_result"
    }
   ],
   "source": [
    "best_model=cv.best_estimator_ # best_estimator_ is a  parameter that finds the best model\n",
    "best_model"
   ]
  },
  {
   "cell_type": "code",
   "execution_count": 42,
   "metadata": {},
   "outputs": [
    {
     "name": "stdout",
     "output_type": "stream",
     "text": [
      "Evaluation Result \n",
      "\n",
      "mean square error =  2215671.5122115007\n",
      "mean absolute error =  1132.3331168400177\n",
      "r2 score =  98.33763353837787 \n",
      "\n"
     ]
    }
   ],
   "source": [
    "dt=DecisionTreeRegressor(max_depth=5, max_features='auto')\n",
    "dt.fit(X_train, y_train)\n",
    "dt_pred=dt.predict(X_test)\n",
    "dt_pred\n",
    "score=r2_score(dt_pred,y_test)\n",
    "mse=mean_squared_error(dt_pred,y_test)\n",
    "msa=mean_absolute_error(dt_pred,y_test)\n",
    "print(\"Evaluation Result \\n\")\n",
    "print(\"mean square error = \",mse)\n",
    "print(\"mean absolute error = \",msa)\n",
    "print(\"r2 score = \",score*100,'\\n')"
   ]
  },
  {
   "cell_type": "markdown",
   "metadata": {},
   "source": [
    "## <font color=\"blue\">Random Forest Regressor</font>"
   ]
  },
  {
   "cell_type": "code",
   "execution_count": 43,
   "metadata": {},
   "outputs": [
    {
     "data": {
      "text/plain": [
       "GridSearchCV(cv=5, estimator=RandomForestRegressor(),\n",
       "             param_grid={'max_depth': [2, 8, None],\n",
       "                         'max_features': [0.2, 0.6, 1],\n",
       "                         'max_samples': [0.5, 0.75, 1],\n",
       "                         'n_estimators': [20, 60, 100, 120]},\n",
       "             scoring='neg_mean_squared_error')"
      ]
     },
     "execution_count": 43,
     "metadata": {},
     "output_type": "execute_result"
    }
   ],
   "source": [
    "param_grid = {\n",
    "    'n_estimators': [20, 60, 100, 120],\n",
    "    'max_features': [0.2, 0.6, 1],\n",
    "    'max_depth': [2, 8, None],\n",
    "    'max_samples': [0.5, 0.75, 1]\n",
    "}\n",
    "\n",
    "rf=RandomForestRegressor()\n",
    "cv= GridSearchCV(rf, param_grid, scoring='neg_mean_squared_error', cv=5)\n",
    "cv.fit(X_train,y_train)"
   ]
  },
  {
   "cell_type": "code",
   "execution_count": 44,
   "metadata": {},
   "outputs": [
    {
     "data": {
      "text/plain": [
       "RandomForestRegressor(max_features=0.6, max_samples=0.75, n_estimators=120)"
      ]
     },
     "execution_count": 44,
     "metadata": {},
     "output_type": "execute_result"
    }
   ],
   "source": [
    "best_model=cv.best_estimator_ \n",
    "best_model"
   ]
  },
  {
   "cell_type": "code",
   "execution_count": 45,
   "metadata": {},
   "outputs": [
    {
     "name": "stdout",
     "output_type": "stream",
     "text": [
      "Evaluation Result \n",
      "\n",
      "mean square error =  829573.4696520617\n",
      "mean absolute error =  686.609697353349\n",
      "r2 score =  99.37890997587961 \n",
      "\n"
     ]
    }
   ],
   "source": [
    "rf=RandomForestRegressor(max_features=0.6, max_samples=0.75, n_estimators=120)\n",
    "rf.fit(X_train, y_train)\n",
    "rf_pred=rf.predict(X_test)\n",
    "rf_pred\n",
    "score=r2_score(rf_pred,y_test)\n",
    "mse=mean_squared_error(rf_pred,y_test)\n",
    "msa=mean_absolute_error(rf_pred,y_test)\n",
    "print(\"Evaluation Result \\n\")\n",
    "print(\"mean square error = \",mse)\n",
    "print(\"mean absolute error = \",msa)\n",
    "print(\"r2 score = \",score*100,'\\n')"
   ]
  },
  {
   "cell_type": "markdown",
   "metadata": {},
   "source": [
    "## <font color=\"blue\">Gradient Booster</font>"
   ]
  },
  {
   "cell_type": "code",
   "execution_count": 46,
   "metadata": {},
   "outputs": [
    {
     "data": {
      "text/plain": [
       "GridSearchCV(cv=5, estimator=GradientBoostingRegressor(),\n",
       "             param_grid={'learning_rate': [0.01, 0.1, 0.5],\n",
       "                         'max_depth': [3, 5, 7], 'n_estimators': [50, 100, 200],\n",
       "                         'subsample': [0.8, 0.9, 1.0]},\n",
       "             scoring='neg_mean_squared_error')"
      ]
     },
     "execution_count": 46,
     "metadata": {},
     "output_type": "execute_result"
    }
   ],
   "source": [
    "param_grid = {\n",
    "    'n_estimators': [50, 100, 200],\n",
    "    'learning_rate': [0.01, 0.1, 0.5],\n",
    "    'max_depth': [3, 5, 7],\n",
    "    'subsample': [0.8, 0.9, 1.0]\n",
    "}\n",
    "gb=GradientBoostingRegressor()\n",
    "cv= GridSearchCV(gb, param_grid, scoring='neg_mean_squared_error', cv=5)\n",
    "cv.fit(X_train,y_train)"
   ]
  },
  {
   "cell_type": "code",
   "execution_count": 47,
   "metadata": {},
   "outputs": [
    {
     "data": {
      "text/plain": [
       "GradientBoostingRegressor(max_depth=7, n_estimators=50)"
      ]
     },
     "execution_count": 47,
     "metadata": {},
     "output_type": "execute_result"
    }
   ],
   "source": [
    "best_model=cv.best_estimator_ \n",
    "best_model"
   ]
  },
  {
   "cell_type": "code",
   "execution_count": 48,
   "metadata": {},
   "outputs": [
    {
     "name": "stdout",
     "output_type": "stream",
     "text": [
      "Evaluation Result \n",
      "\n",
      "mean square error =  815289.9690285093\n",
      "mean absolute error =  677.5253150695999\n",
      "r2 score =  99.39738070840966 \n",
      "\n"
     ]
    }
   ],
   "source": [
    "gb=GradientBoostingRegressor(max_depth=7, n_estimators=50)\n",
    "gb.fit(X_train, y_train)\n",
    "gb_pred=gb.predict(X_test)\n",
    "gb_pred\n",
    "score=r2_score(gb_pred,y_test)\n",
    "mse=mean_squared_error(gb_pred,y_test)\n",
    "msa=mean_absolute_error(gb_pred,y_test)\n",
    "print(\"Evaluation Result \\n\")\n",
    "print(\"mean square error = \",mse)\n",
    "print(\"mean absolute error = \",msa)\n",
    "print(\"r2 score = \",score*100,'\\n')"
   ]
  },
  {
   "cell_type": "markdown",
   "metadata": {},
   "source": [
    "## <font color=\"blue\">SVM</font>"
   ]
  },
  {
   "cell_type": "code",
   "execution_count": 49,
   "metadata": {},
   "outputs": [
    {
     "name": "stdout",
     "output_type": "stream",
     "text": [
      "Evaluation Result \n",
      "\n",
      "mean square error =  7713164.1352505535\n",
      "mean absolute error =  2152.868699810262\n",
      "r2 score =  94.14893464299519 \n",
      "\n"
     ]
    }
   ],
   "source": [
    "svm=SVR(kernel='linear') \n",
    "svm.fit(X_train, y_train)\n",
    "svm_pred = svm.predict(X_test)\n",
    "svm_pred\n",
    "score=r2_score(svm_pred,y_test)\n",
    "mse=mean_squared_error(svm_pred,y_test)\n",
    "msa=mean_absolute_error(svm_pred,y_test)\n",
    "print(\"Evaluation Result \\n\")\n",
    "print(\"mean square error = \",mse)\n",
    "print(\"mean absolute error = \",msa)\n",
    "print(\"r2 score = \",score*100,'\\n')"
   ]
  },
  {
   "cell_type": "markdown",
   "metadata": {},
   "source": [
    "## <font color=\"blue\">Conclusion</font>\n",
    "In conclusion, the supply chain optimization challenge for the FMCG company has been successfully solved by this data science project.Random Forest and Gradient Boosting Regressors were the best performing models among those evaluated. They had lower mean squared error and mean absolute error, which means they were better at predicting the target variable. The R² scores for both models were close to 99%, which means they fit the data well. Therefore, for this particular dataset, the Gradient Boosting Regressor is the best choice because it gives the most accurate and precise predictions of the target variable.\n"
   ]
  }
 ],
 "metadata": {
  "kernelspec": {
   "display_name": "Python 3",
   "language": "python",
   "name": "python3"
  },
  "language_info": {
   "codemirror_mode": {
    "name": "ipython",
    "version": 3
   },
   "file_extension": ".py",
   "mimetype": "text/x-python",
   "name": "python",
   "nbconvert_exporter": "python",
   "pygments_lexer": "ipython3",
   "version": "3.8.5"
  }
 },
 "nbformat": 4,
 "nbformat_minor": 5
}
